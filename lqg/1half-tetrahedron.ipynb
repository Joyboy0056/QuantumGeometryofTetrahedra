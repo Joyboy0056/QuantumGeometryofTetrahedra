{
 "cells": [
  {
   "cell_type": "code",
   "execution_count": 1,
   "id": "e95c9011-c68d-4efe-9cd3-0ef11217959a",
   "metadata": {},
   "outputs": [],
   "source": [
    "from ket import Ket2D\n",
    "from geometric_operators import GeometricOperators\n",
    "\n",
    "import numpy as np\n",
    "import sympy as sp\n",
    "import math \n",
    "\n",
    "ket = Ket2D()\n",
    "geo = GeometricOperators()"
   ]
  },
  {
   "cell_type": "markdown",
   "id": "a24800ad-f2b7-49a0-b25b-d7cb1f5515aa",
   "metadata": {},
   "source": [
    "# Spin networks per il tetraedro $\\left(\\frac{1}{2},\\frac{1}{2},\\frac{1}{2},\\frac{1}{2}\\right)$\n",
    " First, we compute the standard spin network basis in ${\\mathbb{C}^2}^{\\otimes4}:=\\mathbb{C}^2\\otimes\\mathbb{C}^2\\otimes\\mathbb{C}^2\\otimes\\mathbb{C}^2\\cong\\mathbb{C}^{16}\\,\\,$ for the ground-state tetrahedron\n",
    "\n",
    "<div style=\"text-align: center;\">\n",
    "<img src=\"./imgs/1half-tetrahedron.JPG\" alt=\"1/2 tetrahedron\" width=\"250\"/>\n",
    "</div>\n",
    "\n",
    "which is given by the two vectors\n",
    "\n",
    "<div style=\"text-align: center;\">\n",
    "<img src=\"./imgs/1half-spinnet.JPG\" alt=\"1/2 spinnetworks\" width=\"250\"/>\n",
    "</div>\n",
    "i.e. \\begin{align*}\n",
    "    v_1&=\\epsilon^{AB}\\epsilon^{CD}\\,e_A\\otimes e_B\\otimes e_C\\otimes e_D\\\\\n",
    "    &=\\ket{+-+-}-\\ket{+--+}-\\ket{-++-}+\\ket{-+-+}\\\\\n",
    "    v_2&=\\epsilon^{AD}\\epsilon^{BC}\\,e_A\\otimes e_B\\otimes e_C\\otimes e_D\\\\\n",
    "    &=\\ket{++--}-\\ket{+-+-}-\\ket{-+-+}+\\ket{--++}\n",
    "\\end{align*}\n"
   ]
  },
  {
   "cell_type": "code",
   "execution_count": 2,
   "id": "a72f1c3c-1791-4cfc-912e-fce7b878ff7b",
   "metadata": {},
   "outputs": [
    {
     "name": "stdout",
     "output_type": "stream",
     "text": [
      "\n",
      "v1 vect: [ 0.  0.  0.  0.  0.  1. -1.  0.  0. -1.  1.  0.  0.  0.  0.  0.] \n",
      "v1 ket: 1 * |+-+-> + -1 * |+--+> + -1 * |-++-> + 1 * |-+-+>\n",
      "\n",
      "v2 vect: [ 0.  0.  0.  1.  0. -1.  0.  0.  0.  0. -1.  0.  1.  0.  0.  0.] \n",
      "v2 ket: 1 * |++--> + -1 * |+-+-> + -1 * |-+-+> + 1 * |--++>\n"
     ]
    }
   ],
   "source": [
    "v1_ket = ket.compute_ket((0, 1), (2, 3))\n",
    "v2_ket = ket.compute_ket((0, 3), (1, 2))\n",
    "\n",
    "v1_vec = ket.compute_vector([(0, 1), (2, 3)])\n",
    "v2_vec = ket.compute_vector([(0, 3), (1, 2)])\n",
    "\n",
    "print(f\"\\nv1 vect: {v1_vec.real}\", f\"\\nv1 ket: {v1_ket}\")\n",
    "print(f\"\\nv2 vect: {v2_vec.real}\", f\"\\nv2 ket: {v2_ket}\")"
   ]
  },
  {
   "cell_type": "markdown",
   "id": "9bb5100c-9486-4f4c-b0c2-4058136ad237",
   "metadata": {},
   "source": [
    "By the theory, we know that Lie operators $L_\\alpha:\\mathcal{K}_\\Gamma\\to\\mathcal{K}_\\Gamma$ correspond one$-$to$-$one to the face-normal vectors $l_\\alpha$ of a classical tetrahedron\n",
    "\n",
    "<div style=\"text-align: center;\">\n",
    "<img src=\"./imgs/tetrahedron.JPG\" alt=\"tetrahedron\" width=\"200\"/>\n",
    "</div>\n",
    "its geometries being modeled on the $6-$dimensional homogeneous space $\\text{Geo}:=\\text{GL}^+(3)/\\text{SO}(3)$. Dihedral angles $\\theta_{\\alpha\\beta}\\in\\mathbb{R}$ are defined by $$\\cos(\\theta_{\\alpha\\beta})=\\frac{\\overbrace{l_\\alpha\\cdot l_\\beta}^{=:d_{\\alpha\\beta}}}{|l_\\alpha|\\,|l_\\beta|}$$\n",
    "    where $d_{ij}$ are geometric invariants, for $i,j=1,2,3$, generating a Poisson algebra on $\\text{Geo}$, which are promoted to quantum operators\n",
    "    $$D_{\\alpha\\beta}:=(L_\\alpha)_a\\delta^{ab}(L_\\beta)_b$$\n",
    "and are actually proven to be $\\text{SU}(2)-$gauge invariant operators for this spin lattice $\\Gamma=\\left(\\frac{1}{2},\\frac{1}{2},\\frac{1}{2},\\frac{1}{2}\\right)$.\n"
   ]
  },
  {
   "cell_type": "markdown",
   "id": "a56dbb8a-9c80-4894-8dd8-fa6b95e16b32",
   "metadata": {},
   "source": [
    "## Let us compute such geometric gauge-invariant operators\n",
    "being  the four areas $D_{00}, D_{11}, D_{22}, D_{33}$, the three invariants $D_{12}, D_{13}, D_{23}$ and the volume $\\left|[D_{13}, D_{12}]\\right|$"
   ]
  },
  {
   "cell_type": "code",
   "execution_count": 3,
   "id": "b3b71158-0ae5-4d86-a4fe-ef7d74562aaf",
   "metadata": {},
   "outputs": [
    {
     "name": "stdout",
     "output_type": "stream",
     "text": [
      "\n",
      "Area of the 1-upper face, D_11:\n",
      " -0.750    0.000\n",
      "  0.000   -0.750\n",
      "\n",
      "\n",
      "\n",
      "Dihedral angle D_12:\n",
      "  0.750   -0.500\n",
      "  0.000   -0.250\n",
      "\n",
      "\n",
      "\n",
      "Dihedral angle D_13:\n",
      "  0.250    0.500\n",
      "  0.500    0.250\n",
      "\n",
      "\n",
      "\n",
      "Area of the 2-upper face, D_22:\n",
      " -0.750    0.000\n",
      "  0.000   -0.750\n",
      "\n",
      "\n",
      "\n",
      "Dihedral angle D_23:\n",
      " -0.250    0.000\n",
      " -0.500    0.750\n",
      "\n",
      "\n",
      "\n",
      "Area of the 3-upper face, D_33:\n",
      " -0.750    0.000\n",
      "  0.000   -0.750\n",
      "\n",
      "\n",
      "\n",
      "Area of the down face, D_00:\n",
      " -0.750    0.000\n",
      "  0.000   -0.750\n",
      "\n",
      "\n",
      "\n",
      "Volume of the tetrahedron, Vol:\n",
      "  0.250    0.500\n",
      "  0.500    0.250\n",
      "\n",
      "\n"
     ]
    }
   ],
   "source": [
    "for i in range(1, 4):\n",
    "    for j in range(i, 4):  # j parte da i per evitare duplicati simmetrici\n",
    "        D_ij = geo.diedral_matrix((i, j), [v1_vec, v2_vec])\n",
    "\n",
    "        if i == j:\n",
    "            print(f\"\\nArea of the {i}-upper face, D_{i}{j}:\")\n",
    "        else:\n",
    "            print(f\"\\nDihedral angle D_{i}{j}:\")\n",
    "\n",
    "        geo.print_matrix(D_ij)\n",
    "\n",
    "print(f\"\\nArea of the down face, D_00:\")\n",
    "D_00 = geo.diedral_matrix((0, 0), [v1_vec, v2_vec])\n",
    "geo.print_matrix(D_00)\n",
    "\n",
    "\n",
    "print(f\"\\nVolume of the tetrahedron, Vol:\")\n",
    "Vol_std = geo.commutatore([v1_vec, v2_vec])\n",
    "geo.print_matrix(np.abs(Vol_std))"
   ]
  },
  {
   "cell_type": "markdown",
   "id": "75eda597-e849-4558-87f9-dd7e6693e648",
   "metadata": {},
   "source": [
    "### Highlighting the self-adjointness of geometric observables\n",
    "Since $D_{\\alpha\\beta}$ are symmetric as matrices, move towards an orthogonal basis of spin networks should be a performing framework: we'll be using the Gram-Schmidt algorithm on $(v_1, v_2)$"
   ]
  },
  {
   "cell_type": "code",
   "execution_count": 4,
   "id": "f3767764-a681-4e42-b1aa-f2de9a5791e1",
   "metadata": {},
   "outputs": [
    {
     "name": "stdout",
     "output_type": "stream",
     "text": [
      "\n",
      "w1 =  0.5 * |+-+-> + -0.5 * |+--+> + -0.5 * |-++-> + 0.5 * |-+-+>\n",
      "\n",
      "w2 =  sqrt(3)/3 * |++--> + -sqrt(3)/6 * |+-+-> + -sqrt(3)/6 * |+--+> + -sqrt(3)/6 * |-++-> + -sqrt(3)/6 * |-+-+> + sqrt(3)/3 * |--++>\n"
     ]
    }
   ],
   "source": [
    "w1_vec = geo.orthogonalize_basis([v1_vec, v2_vec])[0]\n",
    "w2_vec = geo.orthogonalize_basis([v1_vec, v2_vec])[1]\n",
    "w1_ket = ket.vector_to_ket(w1_vec)\n",
    "w2_ket = ket.vector_to_ket(w2_vec)\n",
    "\n",
    "#print(\"Let's display the orth basis in the ket notation\\n \\nw1 = \", w1_ket)\n",
    "print('\\nw1 = ', w1_ket)\n",
    "print('\\nw2 = ', w2_ket)"
   ]
  },
  {
   "cell_type": "markdown",
   "id": "e8f30d19-73cb-4370-bc0b-470fec10a820",
   "metadata": {},
   "source": [
    "We observe that such orthogonal basis of spin networks is on the form\n",
    "\n",
    "$w_1=\\frac{1}{2}v_1\\quad$ and $\\quad w_2=\\frac{\\sqrt{3}}{6}v_1+\\frac{\\sqrt{3}}{3}v_2$\n",
    "\n",
    "as one can easily see on the following"
   ]
  },
  {
   "cell_type": "code",
   "execution_count": 5,
   "id": "fd7829fa-a523-4084-9de7-3c6d103783f9",
   "metadata": {},
   "outputs": [
    {
     "name": "stdout",
     "output_type": "stream",
     "text": [
      "{a: 0.500000000000000, b: 0.0}\n",
      "{a: sqrt(3)/6, b: sqrt(3)/3}\n",
      "[(0.500000000000000, 0.0), (sqrt(3)/6, sqrt(3)/3)]\n"
     ]
    }
   ],
   "source": [
    "dict1 = geo.find_combination_coefficients(w1_ket, v1_ket, v2_ket)\n",
    "dict2 = geo.find_combination_coefficients(w2_ket, v1_ket, v2_ket) \n",
    "\n",
    "print(dict1)\n",
    "print(dict2)\n",
    "\n",
    "print([(dict1[sp.symbols('a')], dict1[sp.symbols('b')]), (dict2[sp.symbols('a')], dict2[sp.symbols('b')])])"
   ]
  },
  {
   "cell_type": "markdown",
   "id": "d19323e3-8477-4cea-8b71-dcccdf0ad2b1",
   "metadata": {},
   "source": [
    "### Geometric observables in the orthogonal spinnet basis"
   ]
  },
  {
   "cell_type": "code",
   "execution_count": 6,
   "id": "12ddfe78-4a80-4f3c-9210-4c32d32ad288",
   "metadata": {},
   "outputs": [
    {
     "name": "stdout",
     "output_type": "stream",
     "text": [
      "\n",
      "Area of the 1-upper face, D_11_orth:\n",
      " -0.750    0.000\n",
      "  0.000   -0.750\n",
      "\n",
      "\n",
      "\n",
      "Matrice Diedrale D_12_orth:\n",
      "  0.750    0.577\n",
      "  0.000   -0.250\n",
      "\n",
      "\n",
      "\n",
      "Matrice Diedrale D_13_orth:\n",
      " -0.250    0.000\n",
      "  0.433    0.750\n",
      "\n",
      "\n",
      "\n",
      "Area of the 2-upper face, D_22_orth:\n",
      " -0.750    0.000\n",
      "  0.000   -0.750\n",
      "\n",
      "\n",
      "\n",
      "Matrice Diedrale D_23_orth:\n",
      "  0.250   -0.577\n",
      " -0.433    0.250\n",
      "\n",
      "\n",
      "\n",
      "Area of the 3-upper face, D_33_orth:\n",
      " -0.750    0.000\n",
      "  0.000   -0.750\n",
      "\n",
      "\n",
      "\n",
      "Area of the down face, D_00_orth:\n",
      " -0.750    0.000\n",
      "  0.000   -0.750\n",
      "\n",
      "\n",
      "\n",
      "Volume of the tetrahedron, Vol_orth:\n",
      "  0.250    0.577\n",
      "  0.433    0.250\n",
      "\n",
      "\n"
     ]
    }
   ],
   "source": [
    "orth_basis = [(1/2, 0), (math.sqrt(3)/6, math.sqrt(3)/3)]\n",
    "\n",
    "for i in range(1, 4):\n",
    "    for j in range(i, 4):  # j parte da i per evitare duplicati simmetrici\n",
    "        D_ij = geo.diedral_matrix((i, j), [v1_vec, v2_vec])\n",
    "        D_ij_orth = geo.change_basis(D_ij, orth_basis)\n",
    "\n",
    "        if i == j:\n",
    "            print(f\"\\nArea of the {i}-upper face, D_{i}{j}_orth:\")\n",
    "        else:\n",
    "            print(f\"\\nMatrice Diedrale D_{i}{j}_orth:\")\n",
    "\n",
    "        geo.print_matrix(D_ij_orth)\n",
    "\n",
    "print(f\"\\nArea of the down face, D_00_orth:\")\n",
    "D_00 = geo.diedral_matrix((0, 0), [v1_vec, v2_vec])\n",
    "geo.print_matrix(geo.change_basis(D_00, orth_basis))\n",
    "\n",
    "\n",
    "print(f\"\\nVolume of the tetrahedron, Vol_orth:\")\n",
    "Vol_std = geo.commutatore([v1_vec, v2_vec])\n",
    "Vol_orth = geo.change_basis(Vol_std, orth_basis)\n",
    "geo.print_matrix(np.abs(Vol_orth))"
   ]
  },
  {
   "cell_type": "markdown",
   "id": "86a1d2cb-a770-4190-8a42-801141d2cea9",
   "metadata": {},
   "source": [
    "### ⚠️ **Alert!**\n",
    "\n",
    "> **This is an important message.** An issue arises here: it seems that Jupyter is not interpreting the code correctly, as the results of the geometric operators in the new orthogonal basis are, in fact, incorrect. In contrast, when the same code is executed-e.g.-in PyCharm, the results are accurate and consistent with those presented in Section 5.1 of [ref](https://github.com/Joyboy0056/QuantumGeometryofTetrahedra/blob/main/Loop_Quantisation_of_Space.pdf).\n Please run the [main file](https://github.com/Joyboy0056/QuantumGeometryofTetrahedra/blob/main/lqg/main.py) on your PyCharm to display the correct matrices."
   ]
  },
  {
   "cell_type": "markdown",
   "id": "6c8df660-dbea-4053-a82f-d1952290c6ca",
   "metadata": {},
   "source": [
    "## On maximal commuting sub-algebras of $(\\text{Vol}, D_{00}, D_{11}, D_{22}, D_{33}, D_{12})$"
   ]
  },
  {
   "cell_type": "markdown",
   "id": "73a53449-aab9-445b-b0ae-bfa7ce7bc4ee",
   "metadata": {},
   "source": [
    "### attempt with the standard spin network basis $(v_1, v_2)$\n",
    "The Vol operator in this basis can be diagonalize as follow"
   ]
  },
  {
   "cell_type": "code",
   "execution_count": 7,
   "id": "60fde09c-dce3-4ceb-b876-ec5491c9eaca",
   "metadata": {},
   "outputs": [
    {
     "name": "stdout",
     "output_type": "stream",
     "text": [
      "  0.000    0.375\n",
      "  0.500    0.000\n",
      "\n",
      "\n",
      "Vol_diag\n",
      "\n",
      "  0.438    0.062\n",
      "  0.062    0.438\n",
      "\n",
      "\n"
     ]
    }
   ],
   "source": [
    "\n",
    "Vol_std = np.abs(geo.commutatore([v1_vec, v2_vec]))\n",
    "geo.print_matrix(Vol_std)\n",
    "\n",
    "eigv1 = v1_vec + v2_vec\n",
    "eigv2 = -v1_vec + v2_vec\n",
    "\n",
    "Vol_dz = np.abs(geo.change_basis(Vol_std, [(1, 1), (-1, 1)]))\n",
    "print('Vol_diag\\n')\n",
    "geo.print_matrix(Vol_dz)"
   ]
  },
  {
   "cell_type": "markdown",
   "id": "3a70441f-7178-403d-92da-17e1e5322c79",
   "metadata": {},
   "source": [
    "⚠️ **Same problem!** Of course this matrix is not well-computed by Jupyter since it has to be diagonal in its eigenbasis, as it is if you run the code in PyCharm."
   ]
  },
  {
   "cell_type": "code",
   "execution_count": null,
   "id": "7e5d463e-31ea-4588-80f0-923d3c31f1b4",
   "metadata": {},
   "outputs": [],
   "source": []
  }
 ],
 "metadata": {
  "kernelspec": {
   "display_name": "Python 3 (ipykernel)",
   "language": "python",
   "name": "python3"
  },
  "language_info": {
   "codemirror_mode": {
    "name": "ipython",
    "version": 3
   },
   "file_extension": ".py",
   "mimetype": "text/x-python",
   "name": "python",
   "nbconvert_exporter": "python",
   "pygments_lexer": "ipython3",
   "version": "3.9.6"
  }
 },
 "nbformat": 4,
 "nbformat_minor": 5
}
