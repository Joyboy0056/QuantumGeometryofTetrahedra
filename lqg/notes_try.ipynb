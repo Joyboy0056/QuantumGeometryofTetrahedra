{
 "cells": [
  {
   "cell_type": "code",
   "execution_count": 1,
   "id": "46e00692-caba-4353-81af-cd0623982a88",
   "metadata": {},
   "outputs": [],
   "source": [
    "from TensorVspaces import Vspace, TensorProductVspace, pretty_ket\n",
    "\n",
    "from sympy import pprint, sqrt, symbols, simplify\n",
    "from sympy.physics.quantum import Ket, TensorProduct"
   ]
  },
  {
   "cell_type": "code",
   "execution_count": 2,
   "id": "f9601e31-fca1-417f-b386-292077f13424",
   "metadata": {},
   "outputs": [
    {
     "name": "stdout",
     "output_type": "stream",
     "text": [
      "\n",
      "Ground state (1/2, 1/2, 1/2, 1/2) tetrahedron basis:\n",
      "\n",
      "[❘+⟩⨂ ❘+⟩⨂ ❘+⟩⨂ ❘+⟩, ❘+⟩⨂ ❘+⟩⨂ ❘+⟩⨂ ❘-⟩, ❘+⟩⨂ ❘+⟩⨂ ❘-⟩⨂ ❘+⟩, ❘+⟩⨂ ❘+⟩⨂ ❘-⟩⨂ ❘- ↪\n",
      "\n",
      "↪ ⟩, ❘+⟩⨂ ❘-⟩⨂ ❘+⟩⨂ ❘+⟩, ❘+⟩⨂ ❘-⟩⨂ ❘+⟩⨂ ❘-⟩, ❘+⟩⨂ ❘-⟩⨂ ❘-⟩⨂ ❘+⟩, ❘+⟩⨂ ❘-⟩⨂ ❘-⟩ ↪\n",
      "\n",
      "↪ ⨂ ❘-⟩, ❘-⟩⨂ ❘+⟩⨂ ❘+⟩⨂ ❘+⟩, ❘-⟩⨂ ❘+⟩⨂ ❘+⟩⨂ ❘-⟩, ❘-⟩⨂ ❘+⟩⨂ ❘-⟩⨂ ❘+⟩, ❘-⟩⨂ ❘+⟩⨂ ↪\n",
      "\n",
      "↪  ❘-⟩⨂ ❘-⟩, ❘-⟩⨂ ❘-⟩⨂ ❘+⟩⨂ ❘+⟩, ❘-⟩⨂ ❘-⟩⨂ ❘+⟩⨂ ❘-⟩, ❘-⟩⨂ ❘-⟩⨂ ❘-⟩⨂ ❘+⟩, ❘-⟩⨂  ↪\n",
      "\n",
      "↪ ❘-⟩⨂ ❘-⟩⨂ ❘-⟩]\n",
      "\n",
      "[❘++++⟩, ❘+++-⟩, ❘++-+⟩, ❘++--⟩, ❘+-++⟩, ❘+-+-⟩, ❘+--+⟩, ❘+---⟩, ❘-+++⟩, ❘-++- ↪\n",
      "\n",
      "↪ ⟩, ❘-+-+⟩, ❘-+--⟩, ❘--++⟩, ❘--+-⟩, ❘---+⟩, ❘----⟩]\n"
     ]
    }
   ],
   "source": [
    "C2 = Vspace([Ket('+'), Ket('-')])\n",
    "\n",
    "GroundState = TensorProductVspace(C2, C2, C2, C2)\n",
    "\n",
    "print('\\nGround state (1/2, 1/2, 1/2, 1/2) tetrahedron basis:\\n')\n",
    "pprint([ket for ket in GroundState.basis])\n",
    "print()\n",
    "# pprint([pretty_ket(GroundState.basis[j]) for j in range(len(GroundState.basis))])\n",
    "pprint([pretty_ket(ket) for ket in GroundState.basis])"
   ]
  },
  {
   "cell_type": "code",
   "execution_count": 3,
   "id": "9938ed9e-7b21-4fbc-b5fa-b63d32fc62a8",
   "metadata": {},
   "outputs": [
    {
     "name": "stdout",
     "output_type": "stream",
     "text": [
      "\n",
      "Ground state (1/2, 1/2, 1/2, 1/2) tetrahedron basis:\n",
      "\n",
      "[❘+⟩⨂ ❘+⟩⨂ ❘+⟩⨂ ❘+⟩, ❘+⟩⨂ ❘+⟩⨂ ❘+⟩⨂ ❘-⟩, ❘+⟩⨂ ❘+⟩⨂ ❘-⟩⨂ ❘+⟩, ❘+⟩⨂ ❘+⟩⨂ ❘-⟩⨂ ❘- ↪\n",
      "\n",
      "↪ ⟩, ❘+⟩⨂ ❘-⟩⨂ ❘+⟩⨂ ❘+⟩, ❘+⟩⨂ ❘-⟩⨂ ❘+⟩⨂ ❘-⟩, ❘+⟩⨂ ❘-⟩⨂ ❘-⟩⨂ ❘+⟩, ❘+⟩⨂ ❘-⟩⨂ ❘-⟩ ↪\n",
      "\n",
      "↪ ⨂ ❘-⟩, ❘-⟩⨂ ❘+⟩⨂ ❘+⟩⨂ ❘+⟩, ❘-⟩⨂ ❘+⟩⨂ ❘+⟩⨂ ❘-⟩, ❘-⟩⨂ ❘+⟩⨂ ❘-⟩⨂ ❘+⟩, ❘-⟩⨂ ❘+⟩⨂ ↪\n",
      "\n",
      "↪  ❘-⟩⨂ ❘-⟩, ❘-⟩⨂ ❘-⟩⨂ ❘+⟩⨂ ❘+⟩, ❘-⟩⨂ ❘-⟩⨂ ❘+⟩⨂ ❘-⟩, ❘-⟩⨂ ❘-⟩⨂ ❘-⟩⨂ ❘+⟩, ❘-⟩⨂  ↪\n",
      "\n",
      "↪ ❘-⟩⨂ ❘-⟩⨂ ❘-⟩]\n",
      "\n",
      "[❘++++⟩, ❘+++-⟩, ❘++-+⟩, ❘++--⟩, ❘+-++⟩, ❘+-+-⟩, ❘+--+⟩, ❘+---⟩, ❘-+++⟩, ❘-++- ↪\n",
      "\n",
      "↪ ⟩, ❘-+-+⟩, ❘-+--⟩, ❘--++⟩, ❘--+-⟩, ❘---+⟩, ❘----⟩]\n"
     ]
    }
   ],
   "source": [
    "from QuantumGeometry import GroundState\n",
    "\n",
    "# GroundState = GroundState().supp\n",
    "\n",
    "print('\\nGround state (1/2, 1/2, 1/2, 1/2) tetrahedron basis:\\n')\n",
    "pprint(GroundState().supp.basis)\n",
    "print()\n",
    "# pprint([pretty_ket(GroundState.basis[j]) for j in range(len(GroundState.basis))])\n",
    "pprint([pretty_ket(ket) for ket in GroundState().supp.basis])"
   ]
  },
  {
   "cell_type": "code",
   "execution_count": 4,
   "id": "6da4a6d6-6ac2-4e16-9f31-da557fa1857f",
   "metadata": {},
   "outputs": [
    {
     "name": "stdout",
     "output_type": "stream",
     "text": [
      "\n",
      "Ground state (1/2, 1/2, 1/2, 1/2) tetrahedron invariant basis:\n",
      "\n",
      "[❘+⟩⨂ ❘-⟩⨂ ❘+⟩⨂ ❘-⟩ - ❘+⟩⨂ ❘-⟩⨂ ❘-⟩⨂ ❘+⟩ - ❘-⟩⨂ ❘+⟩⨂ ❘+⟩⨂ ❘-⟩ + ❘-⟩⨂ ❘+⟩⨂ ❘-⟩⨂ ↪\n",
      "\n",
      "↪  ❘+⟩, ❘+⟩⨂ ❘+⟩⨂ ❘-⟩⨂ ❘-⟩ - ❘+⟩⨂ ❘-⟩⨂ ❘+⟩⨂ ❘-⟩ - ❘-⟩⨂ ❘+⟩⨂ ❘-⟩⨂ ❘+⟩ + ❘-⟩⨂ ❘- ↪\n",
      "\n",
      "↪ ⟩⨂ ❘+⟩⨂ ❘+⟩]\n",
      "\n",
      "[❘+-+-⟩ - ❘+--+⟩ - ❘-++-⟩ + ❘-+-+⟩, ❘++--⟩ - ❘+-+-⟩ - ❘-+-+⟩ + ❘--++⟩]\n",
      "\n",
      "❘+-+-⟩ - ❘+--+⟩ - ❘-++-⟩ + ❘-+-+⟩\n",
      "(-❘+--+⟩, -❘-++-⟩, ❘+-+-⟩, ❘-+-+⟩)\n",
      "\n",
      "❘++--⟩ - ❘+-+-⟩ - ❘-+-+⟩ + ❘--++⟩\n",
      "(-❘+-+-⟩, -❘-+-+⟩, ❘++--⟩, ❘--++⟩)\n",
      "[(-1, ❘+-+-⟩), (-1, ❘-+-+⟩), (++--,), (--++,)]\n",
      "\n",
      "+\n",
      "-\n",
      "+\n",
      "-\n",
      "\n",
      "-\n",
      "+\n",
      "-\n",
      "+\n",
      "\n",
      "+\n",
      "+\n",
      "-\n",
      "-\n",
      "\n",
      "-\n",
      "-\n",
      "+\n",
      "+\n"
     ]
    }
   ],
   "source": [
    "print('\\nGround state (1/2, 1/2, 1/2, 1/2) tetrahedron invariant basis:\\n')\n",
    "pprint(GroundState().Inv)\n",
    "print()\n",
    "pprint([pretty_ket(ket) for ket in GroundState().Inv])\n",
    "\n",
    "v1, v2 = GroundState().Inv\n",
    "\n",
    "print()\n",
    "pprint(pretty_ket(v1))\n",
    "pprint(pretty_ket(v1).args)\n",
    "print()\n",
    "pprint(pretty_ket(v2))\n",
    "pprint(pretty_ket(v2).args)\n",
    "pprint([pretty_ket(v2).args[j].args for j in range(len(pretty_ket(v2).args))])\n",
    "deeplist = [pretty_ket(v2).args[j].args for j in range(len(pretty_ket(v2).args))]\n",
    "for t in deeplist:\n",
    "    if len(t) > 1:\n",
    "        coeff = t[0]\n",
    "        ket = t[1]\n",
    "    elif len(t) == 1:\n",
    "        coeff = 1\n",
    "        ket = Ket(f'{t[0]}')\n",
    "\n",
    "    #print (coeff, ket.args)\n",
    "    print()\n",
    "    for label in str(ket.label[0]):\n",
    "        print(label)"
   ]
  },
  {
   "cell_type": "code",
   "execution_count": 5,
   "id": "d63595d9-a6cf-498f-8b03-d8b14f9cdbd2",
   "metadata": {},
   "outputs": [
    {
     "name": "stdout",
     "output_type": "stream",
     "text": [
      "[❘-⟩, ⅈ⋅❘-⟩, ❘+⟩]\n",
      "⎡-ⅈ⋅❘-⟩   ❘-⟩  -ⅈ⋅❘+⟩ ⎤\n",
      "⎢───────, ───, ───────⎥\n",
      "⎣   2      2      2   ⎦\n"
     ]
    }
   ],
   "source": [
    "from sympy.physics.quantum import Ket\n",
    "#pprint(type(Ket('+').args[0]))\n",
    "pprint(GroundState().Pauli(Ket('+')))\n",
    "\n",
    "pprint(GroundState().tau(Ket('+')))"
   ]
  },
  {
   "cell_type": "code",
   "execution_count": 6,
   "id": "08b6171e-cc44-4dc9-aa82-b763ce0e0b86",
   "metadata": {},
   "outputs": [
    {
     "name": "stdout",
     "output_type": "stream",
     "text": [
      "\n",
      "-1 (+-+-,)\n",
      "-ⅈ⋅❘+⟩\n",
      "+\n",
      "[❘-⟩, ⅈ⋅❘-⟩, ❘+⟩]\n",
      "-\n",
      "[❘+⟩, -ⅈ⋅❘+⟩, ❘-⟩]\n",
      "+\n",
      "[❘-⟩, ⅈ⋅❘-⟩, ❘+⟩]\n",
      "-\n",
      "[❘+⟩, -ⅈ⋅❘+⟩, ❘-⟩]\n",
      "\n",
      "-1 (-+-+,)\n",
      "ⅈ⋅❘-⟩\n",
      "-\n",
      "[❘+⟩, -ⅈ⋅❘+⟩, ❘-⟩]\n",
      "+\n",
      "[❘-⟩, ⅈ⋅❘-⟩, ❘+⟩]\n",
      "-\n",
      "[❘+⟩, -ⅈ⋅❘+⟩, ❘-⟩]\n",
      "+\n",
      "[❘-⟩, ⅈ⋅❘-⟩, ❘+⟩]\n",
      "\n",
      "1 (++--,)\n",
      "ⅈ⋅❘-⟩\n",
      "+\n",
      "[❘-⟩, ⅈ⋅❘-⟩, ❘+⟩]\n",
      "+\n",
      "[❘-⟩, ⅈ⋅❘-⟩, ❘+⟩]\n",
      "-\n",
      "[❘+⟩, -ⅈ⋅❘+⟩, ❘-⟩]\n",
      "-\n",
      "[❘+⟩, -ⅈ⋅❘+⟩, ❘-⟩]\n",
      "\n",
      "1 (--++,)\n",
      "-ⅈ⋅❘+⟩\n",
      "-\n",
      "[❘+⟩, -ⅈ⋅❘+⟩, ❘-⟩]\n",
      "-\n",
      "[❘+⟩, -ⅈ⋅❘+⟩, ❘-⟩]\n",
      "+\n",
      "[❘-⟩, ⅈ⋅❘-⟩, ❘+⟩]\n",
      "+\n",
      "[❘-⟩, ⅈ⋅❘-⟩, ❘+⟩]\n"
     ]
    }
   ],
   "source": [
    "for t in deeplist:\n",
    "    if len(t) > 1:\n",
    "        coeff = t[0]\n",
    "        ket = t[1]\n",
    "    elif len(t) == 1:\n",
    "        coeff = 1\n",
    "        ket = Ket(f'{t[0]}')\n",
    "\n",
    "    print()\n",
    "    print (coeff, ket.label)\n",
    "    \n",
    "    pprint(GroundState().Pauli(Ket(str(ket.label[0])[1]))[1])\n",
    "    \n",
    "    for label in str(ket.label[0]):\n",
    "        print(label)\n",
    "        \n",
    "        pprint(GroundState().Pauli(Ket(label)))\n",
    "    "
   ]
  },
  {
   "cell_type": "code",
   "execution_count": 7,
   "id": "a9c84f1c-f429-49a6-87d9-5a2948df5a92",
   "metadata": {},
   "outputs": [
    {
     "name": "stdout",
     "output_type": "stream",
     "text": [
      "[(2, |--++>), (+++-,)]\n",
      "\n",
      "2 |--++>\n",
      "ⅈ⋅❘---+⟩\n",
      "1 |+++->\n",
      "ⅈ⋅❘++--⟩\n"
     ]
    }
   ],
   "source": [
    "#GroundState().lie_operator(2, 1, Ket('++--'))\n",
    "\n",
    "ket_input = Ket('+++-') + 2*Ket('--++')\n",
    "deeplist = [ket_input.args[j].args for j in range(len(ket_input.args))]\n",
    "# deeplist is [(coeff, ket)] or [(ket,)]\n",
    "print(deeplist)\n",
    "print()\n",
    "for t in deeplist:\n",
    "    if len(t) > 1:\n",
    "        coeff = t[0]\n",
    "        ket = t[1]\n",
    "        print(coeff, ket)\n",
    "    elif len(t) == 1:\n",
    "        coeff = 1\n",
    "        ket = Ket(t[0])\n",
    "        print(coeff, ket)\n",
    "    labels = [lab for lab in str(ket.label[0])]\n",
    "    single_ket = GroundState().Pauli(Ket(str(ket.args[0])[2]))[1] # i=2, a=1\n",
    "    if len(single_ket.args) ==1:\n",
    "        sket = single_ket.args[1]\n",
    "        labels[2] = sket.args[0]\n",
    "        res = Ket(f'{labels[0]}{labels[1]}{labels[2]}{labels[3]}')\n",
    "    elif len(single_ket.args) >1:\n",
    "        coef = single_ket.args[0]\n",
    "        sket = single_ket.args[1]\n",
    "        labels[2] = sket.args[0]\n",
    "        res = coef*Ket(f'{labels[0]}{labels[1]}{labels[2]}{labels[3]}')\n",
    "    pprint(res)\n",
    "    # questo è il singolo elemento modificato, rimane da rimontare tutto il ket\n",
    "    #print(coeff, ket)"
   ]
  },
  {
   "cell_type": "code",
   "execution_count": 8,
   "id": "69e178e9-8f98-40a2-8fa8-59a478452821",
   "metadata": {},
   "outputs": [
    {
     "name": "stdout",
     "output_type": "stream",
     "text": [
      "<class 'sympy.core.add.Add'>\n"
     ]
    },
    {
     "data": {
      "text/latex": [
       "$\\displaystyle - \\frac{i {\\left|++--\\right\\rangle }}{2} - i {\\left|---+\\right\\rangle }$"
      ],
      "text/plain": [
       "-I*|++-->/2 - I*|---+>"
      ]
     },
     "execution_count": 8,
     "metadata": {},
     "output_type": "execute_result"
    }
   ],
   "source": [
    "ket_input = Ket('+++-') + 2*Ket('--++')\n",
    "print(type(ket_input))\n",
    "GroundState().lie_operator((2,1), ket_input)"
   ]
  },
  {
   "cell_type": "markdown",
   "id": "54debf43-dad3-4e04-a9fe-59afe76c3fd3",
   "metadata": {},
   "source": [
    "# EDDAJEEEEEEE \n",
    "## Lie operators ✅"
   ]
  },
  {
   "cell_type": "code",
   "execution_count": 9,
   "id": "661e34f5-dcef-4fd7-a6df-64588e21a09a",
   "metadata": {},
   "outputs": [
    {
     "name": "stdout",
     "output_type": "stream",
     "text": [
      "<class 'sympy.core.mul.Mul'>\n"
     ]
    },
    {
     "data": {
      "text/latex": [
       "$\\displaystyle - \\frac{\\sqrt{2} i {\\left|+---\\right\\rangle }}{2}$"
      ],
      "text/plain": [
       "-sqrt(2)*I*|+--->/2"
      ]
     },
     "execution_count": 9,
     "metadata": {},
     "output_type": "execute_result"
    }
   ],
   "source": [
    "ket_input =  sqrt(2)*Ket('+-+-') \n",
    "print(type(ket_input))\n",
    "GroundState().lie_operator((2,1), ket_input)"
   ]
  },
  {
   "cell_type": "code",
   "execution_count": 10,
   "id": "b558be99-a7a5-4718-bd3c-ce1b01f362c2",
   "metadata": {},
   "outputs": [
    {
     "name": "stdout",
     "output_type": "stream",
     "text": [
      "<class 'sympy.physics.quantum.state.Ket'>\n"
     ]
    },
    {
     "data": {
      "text/latex": [
       "$\\displaystyle - \\frac{i {\\left|+++-\\right\\rangle }}{2}$"
      ],
      "text/plain": [
       "-I*|+++->/2"
      ]
     },
     "execution_count": 10,
     "metadata": {},
     "output_type": "execute_result"
    }
   ],
   "source": [
    "ket_input =  Ket('++++') \n",
    "print(type(ket_input))\n",
    "GroundState().lie_operator((3,1), ket_input)"
   ]
  },
  {
   "cell_type": "code",
   "execution_count": 11,
   "id": "082b3926-e229-4b13-abf8-22b91d08b857",
   "metadata": {},
   "outputs": [
    {
     "name": "stdout",
     "output_type": "stream",
     "text": [
      "4\n",
      "[2, 2, 2, 2]\n",
      "16\n"
     ]
    }
   ],
   "source": [
    "print(GroundState().supp.k)\n",
    "print(GroundState().supp.dimensions)\n",
    "print(GroundState().supp.dimension)"
   ]
  },
  {
   "cell_type": "code",
   "execution_count": 12,
   "id": "1da83f1c-7338-4500-a69f-759fe27f93f1",
   "metadata": {},
   "outputs": [
    {
     "name": "stdout",
     "output_type": "stream",
     "text": [
      "Action of the dihedral D_00\n",
      "\n",
      "On v1 = |+-+-> - |+--+> - |-++-> + |-+-+>\n",
      "  3⋅❘+-+-⟩   3⋅❘+--+⟩   3⋅❘-++-⟩   3⋅❘-+-+⟩\n",
      "- ──────── + ──────── + ──────── - ────────\n",
      "     4          4          4          4    \n",
      "\n",
      "On v2 = |++--> - |+-+-> - |-+-+> + |--++>\n",
      "  3⋅❘++--⟩   3⋅❘+-+-⟩   3⋅❘-+-+⟩   3⋅❘--++⟩\n",
      "- ──────── + ──────── + ──────── - ────────\n",
      "     4          4          4          4    \n",
      "\n",
      "Action of the dihedral D_01\n",
      "\n",
      "On v1 = |+-+-> - |+--+> - |-++-> + |-+-+>\n",
      "❘+-+-⟩   ❘+--+⟩   ❘-++-⟩   ❘-+-+⟩\n",
      "────── - ────── - ────── + ──────\n",
      "  4        4        4        4   \n",
      "\n",
      "On v2 = |++--> - |+-+-> - |-+-+> + |--++>\n",
      "  ❘++--⟩   ❘+-+-⟩   ❘+--+⟩   ❘-++-⟩   ❘-+-+⟩   ❘--++⟩\n",
      "- ────── + ────── + ────── + ────── + ────── - ──────\n",
      "    4        4        2        2        4        4   \n",
      "\n",
      "Action of the dihedral D_02\n",
      "\n",
      "On v1 = |+-+-> - |+--+> - |-++-> + |-+-+>\n",
      "❘++--⟩   ❘+-+-⟩   ❘+--+⟩   ❘-++-⟩   ❘-+-+⟩   ❘--++⟩\n",
      "────── - ────── + ────── + ────── - ────── + ──────\n",
      "  2        4        4        4        4        2   \n",
      "\n",
      "On v2 = |++--> - |+-+-> - |-+-+> + |--++>\n",
      "  ❘++--⟩   ❘+-+-⟩   ❘+--+⟩   ❘-++-⟩   ❘-+-+⟩   ❘--++⟩\n",
      "- ────── + ────── - ────── - ────── + ────── - ──────\n",
      "    4        4        2        2        4        4   \n",
      "\n",
      "Action of the dihedral D_03\n",
      "\n",
      "On v1 = |+-+-> - |+--+> - |-++-> + |-+-+>\n",
      "  ❘++--⟩   ❘+-+-⟩   ❘+--+⟩   ❘-++-⟩   ❘-+-+⟩   ❘--++⟩\n",
      "- ────── - ────── + ────── + ────── - ────── - ──────\n",
      "    2        4        4        4        4        2   \n",
      "\n",
      "On v2 = |++--> - |+-+-> - |-+-+> + |--++>\n",
      "❘++--⟩   ❘+-+-⟩   ❘-+-+⟩   ❘--++⟩\n",
      "────── - ────── - ────── + ──────\n",
      "  4        4        4        4   \n",
      "\n",
      "Action of the dihedral D_11\n",
      "\n",
      "On v1 = |+-+-> - |+--+> - |-++-> + |-+-+>\n",
      "  3⋅❘+-+-⟩   3⋅❘+--+⟩   3⋅❘-++-⟩   3⋅❘-+-+⟩\n",
      "- ──────── + ──────── + ──────── - ────────\n",
      "     4          4          4          4    \n",
      "\n",
      "On v2 = |++--> - |+-+-> - |-+-+> + |--++>\n",
      "  3⋅❘++--⟩   3⋅❘+-+-⟩   3⋅❘-+-+⟩   3⋅❘--++⟩\n",
      "- ──────── + ──────── + ──────── - ────────\n",
      "     4          4          4          4    \n",
      "\n",
      "Action of the dihedral D_12\n",
      "\n",
      "On v1 = |+-+-> - |+--+> - |-++-> + |-+-+>\n",
      "  ❘++--⟩   ❘+-+-⟩   ❘+--+⟩   ❘-++-⟩   ❘-+-+⟩   ❘--++⟩\n",
      "- ────── - ────── + ────── + ────── - ────── - ──────\n",
      "    2        4        4        4        4        2   \n",
      "\n",
      "On v2 = |++--> - |+-+-> - |-+-+> + |--++>\n",
      "❘++--⟩   ❘+-+-⟩   ❘-+-+⟩   ❘--++⟩\n",
      "────── - ────── - ────── + ──────\n",
      "  4        4        4        4   \n",
      "\n",
      "Action of the dihedral D_13\n",
      "\n",
      "On v1 = |+-+-> - |+--+> - |-++-> + |-+-+>\n",
      "❘++--⟩   ❘+-+-⟩   ❘+--+⟩   ❘-++-⟩   ❘-+-+⟩   ❘--++⟩\n",
      "────── - ────── + ────── + ────── - ────── + ──────\n",
      "  2        4        4        4        4        2   \n",
      "\n",
      "On v2 = |++--> - |+-+-> - |-+-+> + |--++>\n",
      "  ❘++--⟩   ❘+-+-⟩   ❘+--+⟩   ❘-++-⟩   ❘-+-+⟩   ❘--++⟩\n",
      "- ────── + ────── - ────── - ────── + ────── - ──────\n",
      "    4        4        2        2        4        4   \n",
      "\n",
      "Action of the dihedral D_22\n",
      "\n",
      "On v1 = |+-+-> - |+--+> - |-++-> + |-+-+>\n",
      "  3⋅❘+-+-⟩   3⋅❘+--+⟩   3⋅❘-++-⟩   3⋅❘-+-+⟩\n",
      "- ──────── + ──────── + ──────── - ────────\n",
      "     4          4          4          4    \n",
      "\n",
      "On v2 = |++--> - |+-+-> - |-+-+> + |--++>\n",
      "  3⋅❘++--⟩   3⋅❘+-+-⟩   3⋅❘-+-+⟩   3⋅❘--++⟩\n",
      "- ──────── + ──────── + ──────── - ────────\n",
      "     4          4          4          4    \n",
      "\n",
      "Action of the dihedral D_23\n",
      "\n",
      "On v1 = |+-+-> - |+--+> - |-++-> + |-+-+>\n",
      "❘+-+-⟩   ❘+--+⟩   ❘-++-⟩   ❘-+-+⟩\n",
      "────── - ────── - ────── + ──────\n",
      "  4        4        4        4   \n",
      "\n",
      "On v2 = |++--> - |+-+-> - |-+-+> + |--++>\n",
      "  ❘++--⟩   ❘+-+-⟩   ❘+--+⟩   ❘-++-⟩   ❘-+-+⟩   ❘--++⟩\n",
      "- ────── + ────── + ────── + ────── + ────── - ──────\n",
      "    4        4        2        2        4        4   \n",
      "\n",
      "Action of the dihedral D_33\n",
      "\n",
      "On v1 = |+-+-> - |+--+> - |-++-> + |-+-+>\n",
      "  3⋅❘+-+-⟩   3⋅❘+--+⟩   3⋅❘-++-⟩   3⋅❘-+-+⟩\n",
      "- ──────── + ──────── + ──────── - ────────\n",
      "     4          4          4          4    \n",
      "\n",
      "On v2 = |++--> - |+-+-> - |-+-+> + |--++>\n",
      "  3⋅❘++--⟩   3⋅❘+-+-⟩   3⋅❘-+-+⟩   3⋅❘--++⟩\n",
      "- ──────── + ──────── + ──────── - ────────\n",
      "     4          4          4          4    \n",
      "\n"
     ]
    }
   ],
   "source": [
    "for i in range(4):\n",
    "    for j in range(4):\n",
    "        if i <=j: #and i > 0:    \n",
    "            print(f'Action of the dihedral D_{i}{j}\\n')\n",
    "            print('On v1 =', pretty_ket(v1))\n",
    "            pprint(GroundState().dihedral((i,j), pretty_ket(v1)))\n",
    "            print()\n",
    "            print('On v2 =', pretty_ket(v2))\n",
    "            pprint(GroundState().dihedral((i,j), pretty_ket(v2)))\n",
    "            print()\n",
    "            "
   ]
  },
  {
   "cell_type": "code",
   "execution_count": 13,
   "id": "ca7d1205-78f3-4ebe-bbbe-0cbf95c4e823",
   "metadata": {},
   "outputs": [
    {
     "name": "stdout",
     "output_type": "stream",
     "text": [
      "(❘+-+-⟩ - ❘+--+⟩ - ❘-++-⟩ + ❘-+-+⟩, ❘+-+-⟩ - ❘+--+⟩ - ❘-++-⟩ + ❘-+-+⟩)\n",
      "  ❘++--⟩   ❘+-+-⟩   ❘+--+⟩   ❘-++-⟩   ❘-+-+⟩   ❘--++⟩\n",
      "- ────── - ────── + ────── + ────── - ────── - ──────\n",
      "    2        4        4        4        4        2   \n",
      "\n",
      "<class 'sympy.core.mul.Mul'>\n",
      "-❘+--+⟩\n",
      "\n",
      "<class 'sympy.core.mul.Mul'>\n",
      "-❘-++-⟩\n",
      "\n",
      "<class 'sympy.physics.quantum.state.Ket'>\n",
      "❘+-+-⟩\n",
      "\n",
      "<class 'sympy.physics.quantum.state.Ket'>\n",
      "❘-+-+⟩\n",
      "\n",
      "<class 'sympy.core.mul.Mul'>\n",
      "-❘++--⟩ \n",
      "────────\n",
      "   2    \n",
      "\n",
      "<class 'sympy.core.mul.Mul'>\n",
      "-❘--++⟩ \n",
      "────────\n",
      "   2    \n",
      "\n",
      "<class 'sympy.core.mul.Mul'>\n",
      "-❘+-+-⟩ \n",
      "────────\n",
      "   4    \n",
      "\n",
      "<class 'sympy.core.mul.Mul'>\n",
      "-❘-+-+⟩ \n",
      "────────\n",
      "   4    \n",
      "\n",
      "<class 'sympy.core.mul.Mul'>\n",
      "❘+--+⟩\n",
      "──────\n",
      "  4   \n",
      "\n",
      "<class 'sympy.core.mul.Mul'>\n",
      "❘-++-⟩\n",
      "──────\n",
      "  4   \n",
      "\n"
     ]
    }
   ],
   "source": [
    "Inv_basis = (pretty_ket(v1), pretty_ket(v1))\n",
    "pprint(Inv_basis)\n",
    "#GroundState().dihedral_matrix((1,2), Inv_basis)\n",
    "D12_v1 = GroundState().dihedral((1,2), Inv_basis[0])\n",
    "pprint(D12_v1)\n",
    "print()\n",
    "for ket in Inv_basis[0].args:\n",
    "    print(type(ket))\n",
    "    pprint(ket)\n",
    "    print()\n",
    "\n",
    "for ket in D12_v1.args:\n",
    "    print(type(ket))\n",
    "    pprint(ket)\n",
    "    print()\n",
    "\n",
    "# from sympy import Eq, solve, symbols\n",
    "# a, b = symbols('a b')\n",
    "# equation = Eq(a*Inv_basis[0]+b*Inv_basis[1], D12_v1)\n",
    "# sol = solve(equation, (a,b)) \n",
    "# non funziona"
   ]
  },
  {
   "cell_type": "code",
   "execution_count": null,
   "id": "bb8a756d-ac91-46f1-b91e-aab533a14b98",
   "metadata": {},
   "outputs": [],
   "source": []
  },
  {
   "cell_type": "code",
   "execution_count": 14,
   "id": "aba47be4-ef20-4497-a24d-8b4d5a027d58",
   "metadata": {},
   "outputs": [
    {
     "name": "stdout",
     "output_type": "stream",
     "text": [
      "<TensorVspaces.TensorProductVspace object at 0x1070ad9a0>\n",
      "4\n",
      "[3, 3, 3, 3]\n",
      "81\n"
     ]
    }
   ],
   "source": [
    "from QuantumGeometry import Spin1Tetrahedron\n",
    "\n",
    "print(Spin1Tetrahedron().supp)\n",
    "print(Spin1Tetrahedron().supp.k)\n",
    "print(Spin1Tetrahedron().supp.dimensions)\n",
    "print(Spin1Tetrahedron().supp.dimension)"
   ]
  },
  {
   "cell_type": "code",
   "execution_count": 15,
   "id": "e749c0f0-e4f8-4146-841a-f6126c001964",
   "metadata": {},
   "outputs": [
    {
     "name": "stdout",
     "output_type": "stream",
     "text": [
      "\n",
      "Excited state (1, 1, 1, 1) tetrahedron basis:\n",
      "\n",
      "[❘++⟩⨂ ❘++⟩⨂ ❘++⟩⨂ ❘++⟩, √2⋅❘++⟩⨂ ❘++⟩⨂ ❘++⟩⨂ ❘+-⟩, ❘++⟩⨂ ❘++⟩⨂ ❘++⟩⨂ ❘--⟩, √2 ↪\n",
      "\n",
      "↪ ⋅❘++⟩⨂ ❘++⟩⨂ ❘+-⟩⨂ ❘++⟩, 2⋅❘++⟩⨂ ❘++⟩⨂ ❘+-⟩⨂ ❘+-⟩, √2⋅❘++⟩⨂ ❘++⟩⨂ ❘+-⟩⨂ ❘--⟩ ↪\n",
      "\n",
      "↪ , ❘++⟩⨂ ❘++⟩⨂ ❘--⟩⨂ ❘++⟩, √2⋅❘++⟩⨂ ❘++⟩⨂ ❘--⟩⨂ ❘+-⟩, ❘++⟩⨂ ❘++⟩⨂ ❘--⟩⨂ ❘--⟩, ↪\n",
      "\n",
      "↪  √2⋅❘++⟩⨂ ❘+-⟩⨂ ❘++⟩⨂ ❘++⟩, 2⋅❘++⟩⨂ ❘+-⟩⨂ ❘++⟩⨂ ❘+-⟩, √2⋅❘++⟩⨂ ❘+-⟩⨂ ❘++⟩⨂ ❘ ↪\n",
      "\n",
      "↪ --⟩, 2⋅❘++⟩⨂ ❘+-⟩⨂ ❘+-⟩⨂ ❘++⟩, 2⋅√2⋅❘++⟩⨂ ❘+-⟩⨂ ❘+-⟩⨂ ❘+-⟩, 2⋅❘++⟩⨂ ❘+-⟩⨂ ❘+ ↪\n",
      "\n",
      "↪ -⟩⨂ ❘--⟩, √2⋅❘++⟩⨂ ❘+-⟩⨂ ❘--⟩⨂ ❘++⟩, 2⋅❘++⟩⨂ ❘+-⟩⨂ ❘--⟩⨂ ❘+-⟩, √2⋅❘++⟩⨂ ❘+-⟩ ↪\n",
      "\n",
      "↪ ⨂ ❘--⟩⨂ ❘--⟩, ❘++⟩⨂ ❘--⟩⨂ ❘++⟩⨂ ❘++⟩, √2⋅❘++⟩⨂ ❘--⟩⨂ ❘++⟩⨂ ❘+-⟩, ❘++⟩⨂ ❘--⟩⨂ ↪\n",
      "\n",
      "↪  ❘++⟩⨂ ❘--⟩, √2⋅❘++⟩⨂ ❘--⟩⨂ ❘+-⟩⨂ ❘++⟩, 2⋅❘++⟩⨂ ❘--⟩⨂ ❘+-⟩⨂ ❘+-⟩, √2⋅❘++⟩⨂ ❘ ↪\n",
      "\n",
      "↪ --⟩⨂ ❘+-⟩⨂ ❘--⟩, ❘++⟩⨂ ❘--⟩⨂ ❘--⟩⨂ ❘++⟩, √2⋅❘++⟩⨂ ❘--⟩⨂ ❘--⟩⨂ ❘+-⟩, ❘++⟩⨂ ❘- ↪\n",
      "\n",
      "↪ -⟩⨂ ❘--⟩⨂ ❘--⟩, √2⋅❘+-⟩⨂ ❘++⟩⨂ ❘++⟩⨂ ❘++⟩, 2⋅❘+-⟩⨂ ❘++⟩⨂ ❘++⟩⨂ ❘+-⟩, √2⋅❘+-⟩ ↪\n",
      "\n",
      "↪ ⨂ ❘++⟩⨂ ❘++⟩⨂ ❘--⟩, 2⋅❘+-⟩⨂ ❘++⟩⨂ ❘+-⟩⨂ ❘++⟩, 2⋅√2⋅❘+-⟩⨂ ❘++⟩⨂ ❘+-⟩⨂ ❘+-⟩, 2 ↪\n",
      "\n",
      "↪ ⋅❘+-⟩⨂ ❘++⟩⨂ ❘+-⟩⨂ ❘--⟩, √2⋅❘+-⟩⨂ ❘++⟩⨂ ❘--⟩⨂ ❘++⟩, 2⋅❘+-⟩⨂ ❘++⟩⨂ ❘--⟩⨂ ❘+-⟩ ↪\n",
      "\n",
      "↪ , √2⋅❘+-⟩⨂ ❘++⟩⨂ ❘--⟩⨂ ❘--⟩, 2⋅❘+-⟩⨂ ❘+-⟩⨂ ❘++⟩⨂ ❘++⟩, 2⋅√2⋅❘+-⟩⨂ ❘+-⟩⨂ ❘++⟩ ↪\n",
      "\n",
      "↪ ⨂ ❘+-⟩, 2⋅❘+-⟩⨂ ❘+-⟩⨂ ❘++⟩⨂ ❘--⟩, 2⋅√2⋅❘+-⟩⨂ ❘+-⟩⨂ ❘+-⟩⨂ ❘++⟩, 4⋅❘+-⟩⨂ ❘+-⟩⨂ ↪\n",
      "\n",
      "↪  ❘+-⟩⨂ ❘+-⟩, 2⋅√2⋅❘+-⟩⨂ ❘+-⟩⨂ ❘+-⟩⨂ ❘--⟩, 2⋅❘+-⟩⨂ ❘+-⟩⨂ ❘--⟩⨂ ❘++⟩, 2⋅√2⋅❘+- ↪\n",
      "\n",
      "↪ ⟩⨂ ❘+-⟩⨂ ❘--⟩⨂ ❘+-⟩, 2⋅❘+-⟩⨂ ❘+-⟩⨂ ❘--⟩⨂ ❘--⟩, √2⋅❘+-⟩⨂ ❘--⟩⨂ ❘++⟩⨂ ❘++⟩, 2⋅ ↪\n",
      "\n",
      "↪ ❘+-⟩⨂ ❘--⟩⨂ ❘++⟩⨂ ❘+-⟩, √2⋅❘+-⟩⨂ ❘--⟩⨂ ❘++⟩⨂ ❘--⟩, 2⋅❘+-⟩⨂ ❘--⟩⨂ ❘+-⟩⨂ ❘++⟩, ↪\n",
      "\n",
      "↪  2⋅√2⋅❘+-⟩⨂ ❘--⟩⨂ ❘+-⟩⨂ ❘+-⟩, 2⋅❘+-⟩⨂ ❘--⟩⨂ ❘+-⟩⨂ ❘--⟩, √2⋅❘+-⟩⨂ ❘--⟩⨂ ❘--⟩⨂ ↪\n",
      "\n",
      "↪  ❘++⟩, 2⋅❘+-⟩⨂ ❘--⟩⨂ ❘--⟩⨂ ❘+-⟩, √2⋅❘+-⟩⨂ ❘--⟩⨂ ❘--⟩⨂ ❘--⟩, ❘--⟩⨂ ❘++⟩⨂ ❘++⟩ ↪\n",
      "\n",
      "↪ ⨂ ❘++⟩, √2⋅❘--⟩⨂ ❘++⟩⨂ ❘++⟩⨂ ❘+-⟩, ❘--⟩⨂ ❘++⟩⨂ ❘++⟩⨂ ❘--⟩, √2⋅❘--⟩⨂ ❘++⟩⨂ ❘+ ↪\n",
      "\n",
      "↪ -⟩⨂ ❘++⟩, 2⋅❘--⟩⨂ ❘++⟩⨂ ❘+-⟩⨂ ❘+-⟩, √2⋅❘--⟩⨂ ❘++⟩⨂ ❘+-⟩⨂ ❘--⟩, ❘--⟩⨂ ❘++⟩⨂ ❘ ↪\n",
      "\n",
      "↪ --⟩⨂ ❘++⟩, √2⋅❘--⟩⨂ ❘++⟩⨂ ❘--⟩⨂ ❘+-⟩, ❘--⟩⨂ ❘++⟩⨂ ❘--⟩⨂ ❘--⟩, √2⋅❘--⟩⨂ ❘+-⟩⨂ ↪\n",
      "\n",
      "↪  ❘++⟩⨂ ❘++⟩, 2⋅❘--⟩⨂ ❘+-⟩⨂ ❘++⟩⨂ ❘+-⟩, √2⋅❘--⟩⨂ ❘+-⟩⨂ ❘++⟩⨂ ❘--⟩, 2⋅❘--⟩⨂ ❘+ ↪\n",
      "\n",
      "↪ -⟩⨂ ❘+-⟩⨂ ❘++⟩, 2⋅√2⋅❘--⟩⨂ ❘+-⟩⨂ ❘+-⟩⨂ ❘+-⟩, 2⋅❘--⟩⨂ ❘+-⟩⨂ ❘+-⟩⨂ ❘--⟩, √2⋅❘- ↪\n",
      "\n",
      "↪ -⟩⨂ ❘+-⟩⨂ ❘--⟩⨂ ❘++⟩, 2⋅❘--⟩⨂ ❘+-⟩⨂ ❘--⟩⨂ ❘+-⟩, √2⋅❘--⟩⨂ ❘+-⟩⨂ ❘--⟩⨂ ❘--⟩, ❘ ↪\n",
      "\n",
      "↪ --⟩⨂ ❘--⟩⨂ ❘++⟩⨂ ❘++⟩, √2⋅❘--⟩⨂ ❘--⟩⨂ ❘++⟩⨂ ❘+-⟩, ❘--⟩⨂ ❘--⟩⨂ ❘++⟩⨂ ❘--⟩, √2 ↪\n",
      "\n",
      "↪ ⋅❘--⟩⨂ ❘--⟩⨂ ❘+-⟩⨂ ❘++⟩, 2⋅❘--⟩⨂ ❘--⟩⨂ ❘+-⟩⨂ ❘+-⟩, √2⋅❘--⟩⨂ ❘--⟩⨂ ❘+-⟩⨂ ❘--⟩ ↪\n",
      "\n",
      "↪ , ❘--⟩⨂ ❘--⟩⨂ ❘--⟩⨂ ❘++⟩, √2⋅❘--⟩⨂ ❘--⟩⨂ ❘--⟩⨂ ❘+-⟩, ❘--⟩⨂ ❘--⟩⨂ ❘--⟩⨂ ❘--⟩]\n",
      "\n",
      "[❘++++++++⟩, √2⋅❘+++++++-⟩, ❘++++++--⟩, √2⋅❘+++++-++⟩, 2⋅❘+++++-+-⟩, √2⋅❘+++++ ↪\n",
      "\n",
      "↪ ---⟩, ❘++++--++⟩, √2⋅❘++++--+-⟩, ❘++++----⟩, √2⋅❘+++-++++⟩, 2⋅❘+++-+++-⟩, √2 ↪\n",
      "\n",
      "↪ ⋅❘+++-++--⟩, 2⋅❘+++-+-++⟩, 2⋅√2⋅❘+++-+-+-⟩, 2⋅❘+++-+---⟩, √2⋅❘+++---++⟩, 2⋅❘ ↪\n",
      "\n",
      "↪ +++---+-⟩, √2⋅❘+++-----⟩, ❘++--++++⟩, √2⋅❘++--+++-⟩, ❘++--++--⟩, √2⋅❘++--+-+ ↪\n",
      "\n",
      "↪ +⟩, 2⋅❘++--+-+-⟩, √2⋅❘++--+---⟩, ❘++----++⟩, √2⋅❘++----+-⟩, ❘++------⟩, √2⋅❘ ↪\n",
      "\n",
      "↪ +-++++++⟩, 2⋅❘+-+++++-⟩, √2⋅❘+-++++--⟩, 2⋅❘+-+++-++⟩, 2⋅√2⋅❘+-+++-+-⟩, 2⋅❘+- ↪\n",
      "\n",
      "↪ +++---⟩, √2⋅❘+-++--++⟩, 2⋅❘+-++--+-⟩, √2⋅❘+-++----⟩, 2⋅❘+-+-++++⟩, 2⋅√2⋅❘+-+ ↪\n",
      "\n",
      "↪ -+++-⟩, 2⋅❘+-+-++--⟩, 2⋅√2⋅❘+-+-+-++⟩, 4⋅❘+-+-+-+-⟩, 2⋅√2⋅❘+-+-+---⟩, 2⋅❘+-+ ↪\n",
      "\n",
      "↪ ---++⟩, 2⋅√2⋅❘+-+---+-⟩, 2⋅❘+-+-----⟩, √2⋅❘+---++++⟩, 2⋅❘+---+++-⟩, √2⋅❘+--- ↪\n",
      "\n",
      "↪ ++--⟩, 2⋅❘+---+-++⟩, 2⋅√2⋅❘+---+-+-⟩, 2⋅❘+---+---⟩, √2⋅❘+-----++⟩, 2⋅❘+----- ↪\n",
      "\n",
      "↪ +-⟩, √2⋅❘+-------⟩, ❘--++++++⟩, √2⋅❘--+++++-⟩, ❘--++++--⟩, √2⋅❘--+++-++⟩, 2⋅ ↪\n",
      "\n",
      "↪ ❘--+++-+-⟩, √2⋅❘--+++---⟩, ❘--++--++⟩, √2⋅❘--++--+-⟩, ❘--++----⟩, √2⋅❘--+-++ ↪\n",
      "\n",
      "↪ ++⟩, 2⋅❘--+-+++-⟩, √2⋅❘--+-++--⟩, 2⋅❘--+-+-++⟩, 2⋅√2⋅❘--+-+-+-⟩, 2⋅❘--+-+--- ↪\n",
      "\n",
      "↪ ⟩, √2⋅❘--+---++⟩, 2⋅❘--+---+-⟩, √2⋅❘--+-----⟩, ❘----++++⟩, √2⋅❘----+++-⟩, ❘- ↪\n",
      "\n",
      "↪ ---++--⟩, √2⋅❘----+-++⟩, 2⋅❘----+-+-⟩, √2⋅❘----+---⟩, ❘------++⟩, √2⋅❘------ ↪\n",
      "\n",
      "↪ +-⟩, ❘--------⟩]\n",
      "81\n",
      "\n",
      "Excited state (1, 1, 1, 1) tetrahedron invariant basis:\n",
      "\n",
      "[❘++⟩⨂ ❘--⟩⨂ ❘++⟩⨂ ❘--⟩ - ❘++⟩⨂ ❘--⟩⨂ ❘+-⟩⨂ ❘-+⟩ - ❘++⟩⨂ ❘--⟩⨂ ❘-+⟩⨂ ❘+-⟩ + ❘+ ↪\n",
      "\n",
      "↪ +⟩⨂ ❘--⟩⨂ ❘--⟩⨂ ❘++⟩ - ❘+-⟩⨂ ❘-+⟩⨂ ❘++⟩⨂ ❘--⟩ + ❘+-⟩⨂ ❘-+⟩⨂ ❘+-⟩⨂ ❘-+⟩ + ❘+- ↪\n",
      "\n",
      "↪ ⟩⨂ ❘-+⟩⨂ ❘-+⟩⨂ ❘+-⟩ - ❘+-⟩⨂ ❘-+⟩⨂ ❘--⟩⨂ ❘++⟩ - ❘-+⟩⨂ ❘+-⟩⨂ ❘++⟩⨂ ❘--⟩ + ❘-+⟩ ↪\n",
      "\n",
      "↪ ⨂ ❘+-⟩⨂ ❘+-⟩⨂ ❘-+⟩ + ❘-+⟩⨂ ❘+-⟩⨂ ❘-+⟩⨂ ❘+-⟩ - ❘-+⟩⨂ ❘+-⟩⨂ ❘--⟩⨂ ❘++⟩ + ❘--⟩⨂ ↪\n",
      "\n",
      "↪  ❘++⟩⨂ ❘++⟩⨂ ❘--⟩ - ❘--⟩⨂ ❘++⟩⨂ ❘+-⟩⨂ ❘-+⟩ - ❘--⟩⨂ ❘++⟩⨂ ❘-+⟩⨂ ❘+-⟩ + ❘--⟩⨂  ↪\n",
      "\n",
      "↪ ❘++⟩⨂ ❘--⟩⨂ ❘++⟩, ❘++⟩⨂ ❘++⟩⨂ ❘--⟩⨂ ❘--⟩ - ❘++⟩⨂ ❘+-⟩⨂ ❘-+⟩⨂ ❘--⟩ - ❘++⟩⨂ ❘- ↪\n",
      "\n",
      "↪ +⟩⨂ ❘+-⟩⨂ ❘--⟩ + ❘++⟩⨂ ❘--⟩⨂ ❘++⟩⨂ ❘--⟩ - ❘+-⟩⨂ ❘++⟩⨂ ❘--⟩⨂ ❘-+⟩ + ❘+-⟩⨂ ❘+- ↪\n",
      "\n",
      "↪ ⟩⨂ ❘-+⟩⨂ ❘-+⟩ + ❘+-⟩⨂ ❘-+⟩⨂ ❘+-⟩⨂ ❘-+⟩ - ❘+-⟩⨂ ❘--⟩⨂ ❘++⟩⨂ ❘-+⟩ - ❘-+⟩⨂ ❘++⟩ ↪\n",
      "\n",
      "↪ ⨂ ❘--⟩⨂ ❘+-⟩ + ❘-+⟩⨂ ❘+-⟩⨂ ❘-+⟩⨂ ❘+-⟩ + ❘-+⟩⨂ ❘-+⟩⨂ ❘+-⟩⨂ ❘+-⟩ - ❘-+⟩⨂ ❘--⟩⨂ ↪\n",
      "\n",
      "↪  ❘++⟩⨂ ❘+-⟩ + ❘--⟩⨂ ❘++⟩⨂ ❘--⟩⨂ ❘++⟩ - ❘--⟩⨂ ❘+-⟩⨂ ❘-+⟩⨂ ❘++⟩ - ❘--⟩⨂ ❘-+⟩⨂  ↪\n",
      "\n",
      "↪ ❘+-⟩⨂ ❘++⟩ + ❘--⟩⨂ ❘--⟩⨂ ❘++⟩⨂ ❘++⟩, ❘++⟩⨂ ❘+-⟩⨂ ❘-+⟩⨂ ❘--⟩ - ❘++⟩⨂ ❘+-⟩⨂ ❘- ↪\n",
      "\n",
      "↪ -⟩⨂ ❘-+⟩ - ❘++⟩⨂ ❘--⟩⨂ ❘++⟩⨂ ❘--⟩ + ❘++⟩⨂ ❘--⟩⨂ ❘+-⟩⨂ ❘-+⟩ - ❘+-⟩⨂ ❘++⟩⨂ ❘-+ ↪\n",
      "\n",
      "↪ ⟩⨂ ❘--⟩ + ❘+-⟩⨂ ❘++⟩⨂ ❘--⟩⨂ ❘-+⟩ + ❘+-⟩⨂ ❘-+⟩⨂ ❘++⟩⨂ ❘--⟩ - ❘+-⟩⨂ ❘-+⟩⨂ ❘+-⟩ ↪\n",
      "\n",
      "↪ ⨂ ❘-+⟩ - ❘-+⟩⨂ ❘+-⟩⨂ ❘-+⟩⨂ ❘+-⟩ + ❘-+⟩⨂ ❘+-⟩⨂ ❘--⟩⨂ ❘++⟩ + ❘-+⟩⨂ ❘--⟩⨂ ❘++⟩⨂ ↪\n",
      "\n",
      "↪  ❘+-⟩ - ❘-+⟩⨂ ❘--⟩⨂ ❘+-⟩⨂ ❘++⟩ + ❘--⟩⨂ ❘++⟩⨂ ❘-+⟩⨂ ❘+-⟩ - ❘--⟩⨂ ❘++⟩⨂ ❘--⟩⨂  ↪\n",
      "\n",
      "↪ ❘++⟩ - ❘--⟩⨂ ❘-+⟩⨂ ❘++⟩⨂ ❘+-⟩ + ❘--⟩⨂ ❘-+⟩⨂ ❘+-⟩⨂ ❘++⟩]\n",
      "\n",
      "[❘++--++--⟩ - ❘++--+--+⟩ - ❘++---++-⟩ + ❘++----++⟩ - ❘+--+++--⟩ + ❘+--++--+⟩ + ↪\n",
      "\n",
      "↪  ❘+--+-++-⟩ - ❘+--+--++⟩ - ❘-++-++--⟩ + ❘-++-+--+⟩ + ❘-++--++-⟩ - ❘-++---++⟩ ↪\n",
      "\n",
      "↪  + ❘--++++--⟩ - ❘--+++--+⟩ - ❘--++-++-⟩ + ❘--++--++⟩, ❘++++----⟩ - ❘+++--+-- ↪\n",
      "\n",
      "↪ ⟩ - ❘++-++---⟩ + ❘++--++--⟩ - ❘+-++---+⟩ + ❘+-+--+-+⟩ + ❘+--++--+⟩ - ❘+---++ ↪\n",
      "\n",
      "↪ -+⟩ - ❘-+++--+-⟩ + ❘-++--++-⟩ + ❘-+-++-+-⟩ - ❘-+--+++-⟩ + ❘--++--++⟩ - ❘--+- ↪\n",
      "\n",
      "↪ -+++⟩ - ❘---++-++⟩ + ❘----++++⟩, ❘+++--+--⟩ - ❘+++----+⟩ - ❘++--++--⟩ + ❘++- ↪\n",
      "\n",
      "↪ -+--+⟩ - ❘+-++-+--⟩ + ❘+-++---+⟩ + ❘+--+++--⟩ - ❘+--++--+⟩ - ❘-++--++-⟩ + ❘- ↪\n",
      "\n",
      "↪ ++---++⟩ + ❘-+--+++-⟩ - ❘-+--+-++⟩ + ❘--++-++-⟩ - ❘--++--++⟩ - ❘---++++-⟩ +  ↪\n",
      "\n",
      "↪ ❘---++-++⟩]\n",
      "3\n"
     ]
    }
   ],
   "source": [
    "print('\\nExcited state (1, 1, 1, 1) tetrahedron basis:\\n')\n",
    "pprint(Spin1Tetrahedron().supp.basis)\n",
    "print()\n",
    "pprint([pretty_ket(ket) for ket in Spin1Tetrahedron().supp.basis])\n",
    "print(len(Spin1Tetrahedron().supp.basis))\n",
    "\n",
    "print('\\nExcited state (1, 1, 1, 1) tetrahedron invariant basis:\\n')\n",
    "pprint(Spin1Tetrahedron().Inv)\n",
    "print()\n",
    "pprint([pretty_ket(ket) for ket in Spin1Tetrahedron().Inv])\n",
    "print(len(Spin1Tetrahedron().Inv))"
   ]
  },
  {
   "cell_type": "code",
   "execution_count": 16,
   "id": "8b0c5537-664f-4206-a529-465a78dc89f5",
   "metadata": {},
   "outputs": [
    {
     "name": "stdout",
     "output_type": "stream",
     "text": [
      "[-ⅈ⋅❘+-⟩, ❘+-⟩, -ⅈ⋅❘++⟩]\n",
      "\n",
      "⎡-ⅈ⋅(-ⅈ⋅❘++⟩ - ⅈ⋅❘--⟩)   -ⅈ⋅(-❘++⟩ - ❘--⟩)    ⎤\n",
      "⎢──────────────────────, ──────────────────, 0⎥\n",
      "⎣          2                     2            ⎦\n"
     ]
    }
   ],
   "source": [
    "w1, w2, w3 = Spin1Tetrahedron().Inv\n",
    "# pprint(pretty_ket(w1))\n",
    "\n",
    "pprint(Spin1Tetrahedron().Pauli(Ket('++')))\n",
    "print()\n",
    "pprint(Spin1Tetrahedron().tau(Ket('+-')))"
   ]
  },
  {
   "cell_type": "code",
   "execution_count": 20,
   "id": "dfb6601a-de32-499b-bcb6-405003616dbc",
   "metadata": {},
   "outputs": [
    {
     "name": "stdout",
     "output_type": "stream",
     "text": [
      "1\n",
      "1 |+-+-+-+->\n",
      "['+', '-', '+', '-', '+', '-', '+', '-']\n",
      "\n",
      "-❘+++-+-+-⟩ \n",
      "────────────\n",
      "     2      \n",
      "-3⋅❘+-+-+-+-⟩ \n",
      "──────────────\n",
      "      4       \n"
     ]
    }
   ],
   "source": [
    "ket = Ket('+-+-+-+-')\n",
    "print(len(ket.args))\n",
    "coeff, ket = (1, Ket(ket.args[0]))\n",
    "print(coeff, ket)\n",
    "labels = [lab for lab in str(ket.label[0])]\n",
    "print(labels)\n",
    "\n",
    "print()\n",
    "pprint(Spin1Tetrahedron().lie_operator((1,2), ket))\n",
    "pprint(Spin1Tetrahedron().dihedral((1,1), ket))"
   ]
  },
  {
   "cell_type": "code",
   "execution_count": 25,
   "id": "de64efa3-8f0b-4fb3-997f-e37f652be32f",
   "metadata": {},
   "outputs": [
    {
     "name": "stdout",
     "output_type": "stream",
     "text": [
      "❘++--++--⟩ - ❘++--+--+⟩ - ❘++---++-⟩ + ❘++----++⟩ - ❘+--+++--⟩ + ❘+--++--+⟩ +  ↪\n",
      "\n",
      "↪ ❘+--+-++-⟩ - ❘+--+--++⟩ - ❘-++-++--⟩ + ❘-++-+--+⟩ + ❘-++--++-⟩ - ❘-++---++⟩  ↪\n",
      "\n",
      "↪ + ❘--++++--⟩ - ❘--+++--+⟩ - ❘--++-++-⟩ + ❘--++--++⟩\n",
      "\n",
      "\n",
      "\n",
      "❘++-+++--⟩   ❘++-++--+⟩   ❘++-+-++-⟩   ❘++-+--++⟩   ❘+---++--⟩   ❘+---+--+⟩    ↪\n",
      "────────── - ────────── - ────────── + ────────── + ────────── - ────────── -  ↪\n",
      "    2            2            2            2            2            2         ↪\n",
      "\n",
      "↪ ❘+----++-⟩   ❘+-----++⟩   ❘-+++++--⟩   ❘-++++--+⟩   ❘-+++-++-⟩   ❘-+++--++⟩  ↪\n",
      "↪ ────────── + ────────── - ────────── + ────────── + ────────── - ──────────  ↪\n",
      "↪     2            2            2            2            2            2       ↪\n",
      "\n",
      "↪   ❘--+-++--⟩   ❘--+-+--+⟩   ❘--+--++-⟩   ❘--+---++⟩\n",
      "↪ - ────────── + ────────── + ────────── - ──────────\n",
      "↪       2            2            2            2     \n",
      "\n",
      "\n",
      "\n",
      "  3⋅❘++--++--⟩   3⋅❘++--+--+⟩   3⋅❘++---++-⟩   3⋅❘++----++⟩   3⋅❘+--+++--⟩   3 ↪\n",
      "- ──────────── + ──────────── + ──────────── - ──────────── + ──────────── - ─ ↪\n",
      "       4              4              4              4              4           ↪\n",
      "\n",
      "↪ ⋅❘+--++--+⟩   3⋅❘+--+-++-⟩   3⋅❘+--+--++⟩   3⋅❘-++-++--⟩   3⋅❘-++-+--+⟩   3⋅ ↪\n",
      "↪ ─────────── - ──────────── + ──────────── + ──────────── - ──────────── - ── ↪\n",
      "↪     4              4              4              4              4            ↪\n",
      "\n",
      "↪ ❘-++--++-⟩   3⋅❘-++---++⟩   3⋅❘--++++--⟩   3⋅❘--+++--+⟩   3⋅❘--++-++-⟩   3⋅❘ ↪\n",
      "↪ ────────── + ──────────── - ──────────── + ──────────── + ──────────── - ─── ↪\n",
      "↪    4              4              4              4              4             ↪\n",
      "\n",
      "↪ --++--++⟩\n",
      "↪ ─────────\n",
      "↪   4      \n"
     ]
    }
   ],
   "source": [
    "pprint(pretty_ket(w1))\n",
    "print('\\n\\n')\n",
    "pprint(Spin1Tetrahedron().lie_operator((1,2), pretty_ket(w1)))\n",
    "print('\\n\\n')\n",
    "pprint(Spin1Tetrahedron().dihedral((1,1), pretty_ket(w1)))"
   ]
  },
  {
   "cell_type": "code",
   "execution_count": null,
   "id": "e9fd480e-29ac-4b13-8441-7effd38c6b8e",
   "metadata": {},
   "outputs": [],
   "source": []
  }
 ],
 "metadata": {
  "kernelspec": {
   "display_name": "Python 3 (ipykernel)",
   "language": "python",
   "name": "python3"
  },
  "language_info": {
   "codemirror_mode": {
    "name": "ipython",
    "version": 3
   },
   "file_extension": ".py",
   "mimetype": "text/x-python",
   "name": "python",
   "nbconvert_exporter": "python",
   "pygments_lexer": "ipython3",
   "version": "3.9.6"
  }
 },
 "nbformat": 4,
 "nbformat_minor": 5
}
