{
 "cells": [
  {
   "cell_type": "code",
   "execution_count": 1,
   "id": "e6d79f38",
   "metadata": {},
   "outputs": [
    {
     "name": "stdout",
     "output_type": "stream",
     "text": [
      "sys.path: ['/Library/Developer/CommandLineTools/Library/Frameworks/Python3.framework/Versions/3.9/lib/python39.zip', '/Library/Developer/CommandLineTools/Library/Frameworks/Python3.framework/Versions/3.9/lib/python3.9', '/Library/Developer/CommandLineTools/Library/Frameworks/Python3.framework/Versions/3.9/lib/python3.9/lib-dynload', '', '/Users/eddy/git/QuantumGeometryofTetrahedra/.venv/lib/python3.9/site-packages', '/Users/eddy/git/QuantumGeometryofTetrahedra']\n",
      "sys.path updated: ['/Library/Developer/CommandLineTools/Library/Frameworks/Python3.framework/Versions/3.9/lib/python39.zip', '/Library/Developer/CommandLineTools/Library/Frameworks/Python3.framework/Versions/3.9/lib/python3.9', '/Library/Developer/CommandLineTools/Library/Frameworks/Python3.framework/Versions/3.9/lib/python3.9/lib-dynload', '', '/Users/eddy/git/QuantumGeometryofTetrahedra/.venv/lib/python3.9/site-packages', '/Users/eddy/git/QuantumGeometryofTetrahedra']\n"
     ]
    }
   ],
   "source": [
    "import sys\n",
    "import os\n",
    "\n",
    "# add'lqg' to the PATH\n",
    "lqg_path = os.path.abspath('..')  # se il notebook è in lqg/test, '..' è lqg\n",
    "if lqg_path not in sys.path:\n",
    "    sys.path.append(lqg_path)\n",
    "\n",
    "print(\"sys.path:\", sys.path)  # verifica che lqg_path sia nel path\n",
    "\n",
    "print(\"sys.path updated:\", sys.path)"
   ]
  },
  {
   "cell_type": "code",
   "execution_count": null,
   "id": "46e00692-caba-4353-81af-cd0623982a88",
   "metadata": {},
   "outputs": [],
   "source": [
    "from utilia import Vspace, TensorProductVspace, pket\n",
    "\n",
    "from sympy import pprint, sqrt, symbols, simplify, Add, S\n",
    "from sympy.physics.quantum import Ket, TensorProduct"
   ]
  },
  {
   "cell_type": "code",
   "execution_count": 3,
   "id": "f9601e31-fca1-417f-b386-292077f13424",
   "metadata": {},
   "outputs": [
    {
     "name": "stdout",
     "output_type": "stream",
     "text": [
      "\n",
      "Ground state (1/2, 1/2, 1/2, 1/2) tetrahedron basis:\n",
      "\n",
      "[❘+⟩⨂ ❘+⟩⨂ ❘+⟩⨂ ❘+⟩, ❘+⟩⨂ ❘+⟩⨂ ❘+⟩⨂ ❘-⟩, ❘+⟩⨂ ❘+⟩⨂ ❘-⟩⨂ ❘+⟩, ❘+⟩⨂ ❘+⟩⨂ ❘-⟩⨂ ❘- ↪\n",
      "\n",
      "↪ ⟩, ❘+⟩⨂ ❘-⟩⨂ ❘+⟩⨂ ❘+⟩, ❘+⟩⨂ ❘-⟩⨂ ❘+⟩⨂ ❘-⟩, ❘+⟩⨂ ❘-⟩⨂ ❘-⟩⨂ ❘+⟩, ❘+⟩⨂ ❘-⟩⨂ ❘-⟩ ↪\n",
      "\n",
      "↪ ⨂ ❘-⟩, ❘-⟩⨂ ❘+⟩⨂ ❘+⟩⨂ ❘+⟩, ❘-⟩⨂ ❘+⟩⨂ ❘+⟩⨂ ❘-⟩, ❘-⟩⨂ ❘+⟩⨂ ❘-⟩⨂ ❘+⟩, ❘-⟩⨂ ❘+⟩⨂ ↪\n",
      "\n",
      "↪  ❘-⟩⨂ ❘-⟩, ❘-⟩⨂ ❘-⟩⨂ ❘+⟩⨂ ❘+⟩, ❘-⟩⨂ ❘-⟩⨂ ❘+⟩⨂ ❘-⟩, ❘-⟩⨂ ❘-⟩⨂ ❘-⟩⨂ ❘+⟩, ❘-⟩⨂  ↪\n",
      "\n",
      "↪ ❘-⟩⨂ ❘-⟩⨂ ❘-⟩]\n",
      "\n",
      "[❘++++⟩, ❘+++-⟩, ❘++-+⟩, ❘++--⟩, ❘+-++⟩, ❘+-+-⟩, ❘+--+⟩, ❘+---⟩, ❘-+++⟩, ❘-++- ↪\n",
      "\n",
      "↪ ⟩, ❘-+-+⟩, ❘-+--⟩, ❘--++⟩, ❘--+-⟩, ❘---+⟩, ❘----⟩]\n"
     ]
    }
   ],
   "source": [
    "C2 = Vspace([Ket('+'), Ket('-')])\n",
    "\n",
    "GroundState = TensorProductVspace(C2, C2, C2, C2)\n",
    "\n",
    "print('\\nGround state (1/2, 1/2, 1/2, 1/2) tetrahedron basis:\\n')\n",
    "pprint([ket for ket in GroundState.basis])\n",
    "print()\n",
    "# pprint([pket(GroundState.basis[j]) for j in range(len(GroundState.basis))])\n",
    "pprint([pket(ket) for ket in GroundState.basis])"
   ]
  },
  {
   "cell_type": "code",
   "execution_count": 4,
   "id": "9938ed9e-7b21-4fbc-b5fa-b63d32fc62a8",
   "metadata": {},
   "outputs": [
    {
     "name": "stdout",
     "output_type": "stream",
     "text": [
      "\n",
      "Ground state (1/2, 1/2, 1/2, 1/2) tetrahedron basis:\n",
      "\n",
      "[❘+⟩⨂ ❘+⟩⨂ ❘+⟩⨂ ❘+⟩, ❘+⟩⨂ ❘+⟩⨂ ❘+⟩⨂ ❘-⟩, ❘+⟩⨂ ❘+⟩⨂ ❘-⟩⨂ ❘+⟩, ❘+⟩⨂ ❘+⟩⨂ ❘-⟩⨂ ❘- ↪\n",
      "\n",
      "↪ ⟩, ❘+⟩⨂ ❘-⟩⨂ ❘+⟩⨂ ❘+⟩, ❘+⟩⨂ ❘-⟩⨂ ❘+⟩⨂ ❘-⟩, ❘+⟩⨂ ❘-⟩⨂ ❘-⟩⨂ ❘+⟩, ❘+⟩⨂ ❘-⟩⨂ ❘-⟩ ↪\n",
      "\n",
      "↪ ⨂ ❘-⟩, ❘-⟩⨂ ❘+⟩⨂ ❘+⟩⨂ ❘+⟩, ❘-⟩⨂ ❘+⟩⨂ ❘+⟩⨂ ❘-⟩, ❘-⟩⨂ ❘+⟩⨂ ❘-⟩⨂ ❘+⟩, ❘-⟩⨂ ❘+⟩⨂ ↪\n",
      "\n",
      "↪  ❘-⟩⨂ ❘-⟩, ❘-⟩⨂ ❘-⟩⨂ ❘+⟩⨂ ❘+⟩, ❘-⟩⨂ ❘-⟩⨂ ❘+⟩⨂ ❘-⟩, ❘-⟩⨂ ❘-⟩⨂ ❘-⟩⨂ ❘+⟩, ❘-⟩⨂  ↪\n",
      "\n",
      "↪ ❘-⟩⨂ ❘-⟩⨂ ❘-⟩]\n",
      "\n",
      "[❘++++⟩, ❘+++-⟩, ❘++-+⟩, ❘++--⟩, ❘+-++⟩, ❘+-+-⟩, ❘+--+⟩, ❘+---⟩, ❘-+++⟩, ❘-++- ↪\n",
      "\n",
      "↪ ⟩, ❘-+-+⟩, ❘-+--⟩, ❘--++⟩, ❘--+-⟩, ❘---+⟩, ❘----⟩]\n"
     ]
    }
   ],
   "source": [
    "from src.QuantumGeometry import GroundState\n",
    "\n",
    "# GroundState = GroundState().supp\n",
    "\n",
    "print('\\nGround state (1/2, 1/2, 1/2, 1/2) tetrahedron basis:\\n')\n",
    "pprint(GroundState().supp.basis)\n",
    "print()\n",
    "# pprint([pket(GroundState.basis[j]) for j in range(len(GroundState.basis))])\n",
    "pprint([pket(ket) for ket in GroundState().supp.basis])"
   ]
  },
  {
   "cell_type": "code",
   "execution_count": 5,
   "id": "6da4a6d6-6ac2-4e16-9f31-da557fa1857f",
   "metadata": {},
   "outputs": [
    {
     "name": "stdout",
     "output_type": "stream",
     "text": [
      "\n",
      "Ground state (1/2, 1/2, 1/2, 1/2) tetrahedron invariant basis:\n",
      "\n",
      "[❘+⟩⨂ ❘-⟩⨂ ❘+⟩⨂ ❘-⟩ - ❘+⟩⨂ ❘-⟩⨂ ❘-⟩⨂ ❘+⟩ - ❘-⟩⨂ ❘+⟩⨂ ❘+⟩⨂ ❘-⟩ + ❘-⟩⨂ ❘+⟩⨂ ❘-⟩⨂ ↪\n",
      "\n",
      "↪  ❘+⟩, ❘+⟩⨂ ❘+⟩⨂ ❘-⟩⨂ ❘-⟩ - ❘+⟩⨂ ❘-⟩⨂ ❘+⟩⨂ ❘-⟩ - ❘-⟩⨂ ❘+⟩⨂ ❘-⟩⨂ ❘+⟩ + ❘-⟩⨂ ❘- ↪\n",
      "\n",
      "↪ ⟩⨂ ❘+⟩⨂ ❘+⟩]\n",
      "\n",
      "[❘+-+-⟩ - ❘+--+⟩ - ❘-++-⟩ + ❘-+-+⟩, ❘++--⟩ - ❘+-+-⟩ - ❘-+-+⟩ + ❘--++⟩]\n",
      "\n",
      "❘+-+-⟩ - ❘+--+⟩ - ❘-++-⟩ + ❘-+-+⟩\n",
      "(-❘+--+⟩, -❘-++-⟩, ❘+-+-⟩, ❘-+-+⟩)\n",
      "\n",
      "❘++--⟩ - ❘+-+-⟩ - ❘-+-+⟩ + ❘--++⟩\n",
      "(-❘+-+-⟩, -❘-+-+⟩, ❘++--⟩, ❘--++⟩)\n",
      "[(-1, ❘+-+-⟩), (-1, ❘-+-+⟩), (++--,), (--++,)]\n",
      "\n",
      "+\n",
      "-\n",
      "+\n",
      "-\n",
      "\n",
      "-\n",
      "+\n",
      "-\n",
      "+\n",
      "\n",
      "+\n",
      "+\n",
      "-\n",
      "-\n",
      "\n",
      "-\n",
      "-\n",
      "+\n",
      "+\n"
     ]
    }
   ],
   "source": [
    "print('\\nGround state (1/2, 1/2, 1/2, 1/2) tetrahedron invariant basis:\\n')\n",
    "pprint(GroundState().Inv)\n",
    "print()\n",
    "pprint([pket(ket) for ket in GroundState().Inv])\n",
    "\n",
    "v1, v2 = GroundState().Inv\n",
    "\n",
    "print()\n",
    "pprint(pket(v1))\n",
    "pprint(pket(v1).args)\n",
    "print()\n",
    "pprint(pket(v2))\n",
    "pprint(pket(v2).args)\n",
    "pprint([pket(v2).args[j].args for j in range(len(pket(v2).args))])\n",
    "deeplist = [pket(v2).args[j].args for j in range(len(pket(v2).args))]\n",
    "for t in deeplist:\n",
    "    if len(t) > 1:\n",
    "        coeff = t[0]\n",
    "        ket = t[1]\n",
    "    elif len(t) == 1:\n",
    "        coeff = 1\n",
    "        ket = Ket(f'{t[0]}')\n",
    "\n",
    "    #print (coeff, ket.args)\n",
    "    print()\n",
    "    for label in str(ket.label[0]):\n",
    "        print(label)"
   ]
  },
  {
   "cell_type": "code",
   "execution_count": 6,
   "id": "d63595d9-a6cf-498f-8b03-d8b14f9cdbd2",
   "metadata": {},
   "outputs": [
    {
     "name": "stdout",
     "output_type": "stream",
     "text": [
      "[❘-⟩, ⅈ⋅❘-⟩, ❘+⟩]\n",
      "⎡-ⅈ⋅❘-⟩   ❘-⟩  -ⅈ⋅❘+⟩ ⎤\n",
      "⎢───────, ───, ───────⎥\n",
      "⎣   2      2      2   ⎦\n"
     ]
    }
   ],
   "source": [
    "from sympy.physics.quantum import Ket\n",
    "#pprint(type(Ket('+').args[0]))\n",
    "pprint(GroundState().Pauli(Ket('+')))\n",
    "\n",
    "pprint(GroundState().tau(Ket('+')))"
   ]
  },
  {
   "cell_type": "code",
   "execution_count": 7,
   "id": "08b6171e-cc44-4dc9-aa82-b763ce0e0b86",
   "metadata": {},
   "outputs": [
    {
     "name": "stdout",
     "output_type": "stream",
     "text": [
      "\n",
      "-1 (+-+-,)\n",
      "-ⅈ⋅❘+⟩\n",
      "+\n",
      "[❘-⟩, ⅈ⋅❘-⟩, ❘+⟩]\n",
      "-\n",
      "[❘+⟩, -ⅈ⋅❘+⟩, ❘-⟩]\n",
      "+\n",
      "[❘-⟩, ⅈ⋅❘-⟩, ❘+⟩]\n",
      "-\n",
      "[❘+⟩, -ⅈ⋅❘+⟩, ❘-⟩]\n",
      "\n",
      "-1 (-+-+,)\n",
      "ⅈ⋅❘-⟩\n",
      "-\n",
      "[❘+⟩, -ⅈ⋅❘+⟩, ❘-⟩]\n",
      "+\n",
      "[❘-⟩, ⅈ⋅❘-⟩, ❘+⟩]\n",
      "-\n",
      "[❘+⟩, -ⅈ⋅❘+⟩, ❘-⟩]\n",
      "+\n",
      "[❘-⟩, ⅈ⋅❘-⟩, ❘+⟩]\n",
      "\n",
      "1 (++--,)\n",
      "ⅈ⋅❘-⟩\n",
      "+\n",
      "[❘-⟩, ⅈ⋅❘-⟩, ❘+⟩]\n",
      "+\n",
      "[❘-⟩, ⅈ⋅❘-⟩, ❘+⟩]\n",
      "-\n",
      "[❘+⟩, -ⅈ⋅❘+⟩, ❘-⟩]\n",
      "-\n",
      "[❘+⟩, -ⅈ⋅❘+⟩, ❘-⟩]\n",
      "\n",
      "1 (--++,)\n",
      "-ⅈ⋅❘+⟩\n",
      "-\n",
      "[❘+⟩, -ⅈ⋅❘+⟩, ❘-⟩]\n",
      "-\n",
      "[❘+⟩, -ⅈ⋅❘+⟩, ❘-⟩]\n",
      "+\n",
      "[❘-⟩, ⅈ⋅❘-⟩, ❘+⟩]\n",
      "+\n",
      "[❘-⟩, ⅈ⋅❘-⟩, ❘+⟩]\n"
     ]
    }
   ],
   "source": [
    "for t in deeplist:\n",
    "    if len(t) > 1:\n",
    "        coeff = t[0]\n",
    "        ket = t[1]\n",
    "    elif len(t) == 1:\n",
    "        coeff = 1\n",
    "        ket = Ket(f'{t[0]}')\n",
    "\n",
    "    print()\n",
    "    print (coeff, ket.label)\n",
    "    \n",
    "    pprint(GroundState().Pauli(Ket(str(ket.label[0])[1]))[1])\n",
    "    \n",
    "    for label in str(ket.label[0]):\n",
    "        print(label)\n",
    "        \n",
    "        pprint(GroundState().Pauli(Ket(label)))\n",
    "    "
   ]
  },
  {
   "cell_type": "code",
   "execution_count": 8,
   "id": "a9c84f1c-f429-49a6-87d9-5a2948df5a92",
   "metadata": {},
   "outputs": [
    {
     "name": "stdout",
     "output_type": "stream",
     "text": [
      "[(2, |--++>), (+++-,)]\n",
      "\n",
      "2 |--++>\n",
      "ⅈ⋅❘---+⟩\n",
      "1 |+++->\n",
      "ⅈ⋅❘++--⟩\n"
     ]
    }
   ],
   "source": [
    "#GroundState().lie_operator(2, 1, Ket('++--'))\n",
    "\n",
    "ket_input = Ket('+++-') + 2*Ket('--++')\n",
    "deeplist = [ket_input.args[j].args for j in range(len(ket_input.args))]\n",
    "# deeplist is [(coeff, ket)] or [(ket,)]\n",
    "print(deeplist)\n",
    "print()\n",
    "for t in deeplist:\n",
    "    if len(t) > 1:\n",
    "        coeff = t[0]\n",
    "        ket = t[1]\n",
    "        print(coeff, ket)\n",
    "    elif len(t) == 1:\n",
    "        coeff = 1\n",
    "        ket = Ket(t[0])\n",
    "        print(coeff, ket)\n",
    "    labels = [lab for lab in str(ket.label[0])]\n",
    "    single_ket = GroundState().Pauli(Ket(str(ket.args[0])[2]))[1] # i=2, a=1\n",
    "    if len(single_ket.args) ==1:\n",
    "        sket = single_ket.args[1]\n",
    "        labels[2] = sket.args[0]\n",
    "        res = Ket(f'{labels[0]}{labels[1]}{labels[2]}{labels[3]}')\n",
    "    elif len(single_ket.args) >1:\n",
    "        coef = single_ket.args[0]\n",
    "        sket = single_ket.args[1]\n",
    "        labels[2] = sket.args[0]\n",
    "        res = coef*Ket(f'{labels[0]}{labels[1]}{labels[2]}{labels[3]}')\n",
    "    pprint(res)\n",
    "    # questo è il singolo elemento modificato, rimane da rimontare tutto il ket\n",
    "    #print(coeff, ket)"
   ]
  },
  {
   "cell_type": "code",
   "execution_count": 9,
   "id": "69e178e9-8f98-40a2-8fa8-59a478452821",
   "metadata": {},
   "outputs": [
    {
     "name": "stdout",
     "output_type": "stream",
     "text": [
      "<class 'sympy.core.add.Add'>\n"
     ]
    },
    {
     "data": {
      "text/latex": [
       "$\\displaystyle - \\frac{i {\\left|++--\\right\\rangle }}{2} - i {\\left|---+\\right\\rangle }$"
      ],
      "text/plain": [
       "-I*|++-->/2 - I*|---+>"
      ]
     },
     "execution_count": 9,
     "metadata": {},
     "output_type": "execute_result"
    }
   ],
   "source": [
    "ket_input = Ket('+++-') + 2*Ket('--++')\n",
    "print(type(ket_input))\n",
    "GroundState().lie_operator((2,1), ket_input)"
   ]
  },
  {
   "cell_type": "markdown",
   "id": "54debf43-dad3-4e04-a9fe-59afe76c3fd3",
   "metadata": {},
   "source": [
    "# EDDAJEEEEEEE \n",
    "## Lie operators ✅"
   ]
  },
  {
   "cell_type": "code",
   "execution_count": 10,
   "id": "661e34f5-dcef-4fd7-a6df-64588e21a09a",
   "metadata": {},
   "outputs": [
    {
     "name": "stdout",
     "output_type": "stream",
     "text": [
      "<class 'sympy.core.mul.Mul'>\n"
     ]
    },
    {
     "data": {
      "text/latex": [
       "$\\displaystyle - \\frac{\\sqrt{2} i {\\left|+---\\right\\rangle }}{2}$"
      ],
      "text/plain": [
       "-sqrt(2)*I*|+--->/2"
      ]
     },
     "execution_count": 10,
     "metadata": {},
     "output_type": "execute_result"
    }
   ],
   "source": [
    "ket_input = sqrt(2)*Ket('+-+-') \n",
    "print(type(ket_input))\n",
    "GroundState().lie_operator((2,1), ket_input)"
   ]
  },
  {
   "cell_type": "code",
   "execution_count": 11,
   "id": "b558be99-a7a5-4718-bd3c-ce1b01f362c2",
   "metadata": {},
   "outputs": [
    {
     "name": "stdout",
     "output_type": "stream",
     "text": [
      "<class 'sympy.physics.quantum.state.Ket'>\n"
     ]
    },
    {
     "data": {
      "text/latex": [
       "$\\displaystyle - \\frac{i {\\left|+++-\\right\\rangle }}{2}$"
      ],
      "text/plain": [
       "-I*|+++->/2"
      ]
     },
     "execution_count": 11,
     "metadata": {},
     "output_type": "execute_result"
    }
   ],
   "source": [
    "ket_input =  Ket('++++') \n",
    "print(type(ket_input))\n",
    "GroundState().lie_operator((3,1), ket_input)"
   ]
  },
  {
   "cell_type": "code",
   "execution_count": 12,
   "id": "082b3926-e229-4b13-abf8-22b91d08b857",
   "metadata": {},
   "outputs": [
    {
     "name": "stdout",
     "output_type": "stream",
     "text": [
      "4\n",
      "[2, 2, 2, 2]\n",
      "16\n"
     ]
    }
   ],
   "source": [
    "print(GroundState().supp.k)\n",
    "print(GroundState().supp.dimensions)\n",
    "print(GroundState().supp.dimension)"
   ]
  },
  {
   "cell_type": "code",
   "execution_count": 13,
   "id": "1da83f1c-7338-4500-a69f-759fe27f93f1",
   "metadata": {},
   "outputs": [
    {
     "name": "stdout",
     "output_type": "stream",
     "text": [
      "Action of the dihedral D_00\n",
      "\n",
      "On v1 = |+-+-> - |+--+> - |-++-> + |-+-+>\n",
      "  3⋅❘+-+-⟩   3⋅❘+--+⟩   3⋅❘-++-⟩   3⋅❘-+-+⟩\n",
      "- ──────── + ──────── + ──────── - ────────\n",
      "     4          4          4          4    \n",
      "\n",
      "On v2 = |++--> - |+-+-> - |-+-+> + |--++>\n",
      "  3⋅❘++--⟩   3⋅❘+-+-⟩   3⋅❘-+-+⟩   3⋅❘--++⟩\n",
      "- ──────── + ──────── + ──────── - ────────\n",
      "     4          4          4          4    \n",
      "\n",
      "Action of the dihedral D_01\n",
      "\n",
      "On v1 = |+-+-> - |+--+> - |-++-> + |-+-+>\n",
      "❘+-+-⟩   ❘+--+⟩   ❘-++-⟩   ❘-+-+⟩\n",
      "────── - ────── - ────── + ──────\n",
      "  4        4        4        4   \n",
      "\n",
      "On v2 = |++--> - |+-+-> - |-+-+> + |--++>\n",
      "  ❘++--⟩   ❘+-+-⟩   ❘+--+⟩   ❘-++-⟩   ❘-+-+⟩   ❘--++⟩\n",
      "- ────── + ────── + ────── + ────── + ────── - ──────\n",
      "    4        4        2        2        4        4   \n",
      "\n",
      "Action of the dihedral D_02\n",
      "\n",
      "On v1 = |+-+-> - |+--+> - |-++-> + |-+-+>\n",
      "❘++--⟩   ❘+-+-⟩   ❘+--+⟩   ❘-++-⟩   ❘-+-+⟩   ❘--++⟩\n",
      "────── - ────── + ────── + ────── - ────── + ──────\n",
      "  2        4        4        4        4        2   \n",
      "\n",
      "On v2 = |++--> - |+-+-> - |-+-+> + |--++>\n",
      "  ❘++--⟩   ❘+-+-⟩   ❘+--+⟩   ❘-++-⟩   ❘-+-+⟩   ❘--++⟩\n",
      "- ────── + ────── - ────── - ────── + ────── - ──────\n",
      "    4        4        2        2        4        4   \n",
      "\n",
      "Action of the dihedral D_03\n",
      "\n",
      "On v1 = |+-+-> - |+--+> - |-++-> + |-+-+>\n",
      "  ❘++--⟩   ❘+-+-⟩   ❘+--+⟩   ❘-++-⟩   ❘-+-+⟩   ❘--++⟩\n",
      "- ────── - ────── + ────── + ────── - ────── - ──────\n",
      "    2        4        4        4        4        2   \n",
      "\n",
      "On v2 = |++--> - |+-+-> - |-+-+> + |--++>\n",
      "❘++--⟩   ❘+-+-⟩   ❘-+-+⟩   ❘--++⟩\n",
      "────── - ────── - ────── + ──────\n",
      "  4        4        4        4   \n",
      "\n",
      "Action of the dihedral D_11\n",
      "\n",
      "On v1 = |+-+-> - |+--+> - |-++-> + |-+-+>\n",
      "  3⋅❘+-+-⟩   3⋅❘+--+⟩   3⋅❘-++-⟩   3⋅❘-+-+⟩\n",
      "- ──────── + ──────── + ──────── - ────────\n",
      "     4          4          4          4    \n",
      "\n",
      "On v2 = |++--> - |+-+-> - |-+-+> + |--++>\n",
      "  3⋅❘++--⟩   3⋅❘+-+-⟩   3⋅❘-+-+⟩   3⋅❘--++⟩\n",
      "- ──────── + ──────── + ──────── - ────────\n",
      "     4          4          4          4    \n",
      "\n",
      "Action of the dihedral D_12\n",
      "\n",
      "On v1 = |+-+-> - |+--+> - |-++-> + |-+-+>\n",
      "  ❘++--⟩   ❘+-+-⟩   ❘+--+⟩   ❘-++-⟩   ❘-+-+⟩   ❘--++⟩\n",
      "- ────── - ────── + ────── + ────── - ────── - ──────\n",
      "    2        4        4        4        4        2   \n",
      "\n",
      "On v2 = |++--> - |+-+-> - |-+-+> + |--++>\n",
      "❘++--⟩   ❘+-+-⟩   ❘-+-+⟩   ❘--++⟩\n",
      "────── - ────── - ────── + ──────\n",
      "  4        4        4        4   \n",
      "\n",
      "Action of the dihedral D_13\n",
      "\n",
      "On v1 = |+-+-> - |+--+> - |-++-> + |-+-+>\n",
      "❘++--⟩   ❘+-+-⟩   ❘+--+⟩   ❘-++-⟩   ❘-+-+⟩   ❘--++⟩\n",
      "────── - ────── + ────── + ────── - ────── + ──────\n",
      "  2        4        4        4        4        2   \n",
      "\n",
      "On v2 = |++--> - |+-+-> - |-+-+> + |--++>\n",
      "  ❘++--⟩   ❘+-+-⟩   ❘+--+⟩   ❘-++-⟩   ❘-+-+⟩   ❘--++⟩\n",
      "- ────── + ────── - ────── - ────── + ────── - ──────\n",
      "    4        4        2        2        4        4   \n",
      "\n",
      "Action of the dihedral D_22\n",
      "\n",
      "On v1 = |+-+-> - |+--+> - |-++-> + |-+-+>\n",
      "  3⋅❘+-+-⟩   3⋅❘+--+⟩   3⋅❘-++-⟩   3⋅❘-+-+⟩\n",
      "- ──────── + ──────── + ──────── - ────────\n",
      "     4          4          4          4    \n",
      "\n",
      "On v2 = |++--> - |+-+-> - |-+-+> + |--++>\n",
      "  3⋅❘++--⟩   3⋅❘+-+-⟩   3⋅❘-+-+⟩   3⋅❘--++⟩\n",
      "- ──────── + ──────── + ──────── - ────────\n",
      "     4          4          4          4    \n",
      "\n",
      "Action of the dihedral D_23\n",
      "\n",
      "On v1 = |+-+-> - |+--+> - |-++-> + |-+-+>\n",
      "❘+-+-⟩   ❘+--+⟩   ❘-++-⟩   ❘-+-+⟩\n",
      "────── - ────── - ────── + ──────\n",
      "  4        4        4        4   \n",
      "\n",
      "On v2 = |++--> - |+-+-> - |-+-+> + |--++>\n",
      "  ❘++--⟩   ❘+-+-⟩   ❘+--+⟩   ❘-++-⟩   ❘-+-+⟩   ❘--++⟩\n",
      "- ────── + ────── + ────── + ────── + ────── - ──────\n",
      "    4        4        2        2        4        4   \n",
      "\n",
      "Action of the dihedral D_33\n",
      "\n",
      "On v1 = |+-+-> - |+--+> - |-++-> + |-+-+>\n",
      "  3⋅❘+-+-⟩   3⋅❘+--+⟩   3⋅❘-++-⟩   3⋅❘-+-+⟩\n",
      "- ──────── + ──────── + ──────── - ────────\n",
      "     4          4          4          4    \n",
      "\n",
      "On v2 = |++--> - |+-+-> - |-+-+> + |--++>\n",
      "  3⋅❘++--⟩   3⋅❘+-+-⟩   3⋅❘-+-+⟩   3⋅❘--++⟩\n",
      "- ──────── + ──────── + ──────── - ────────\n",
      "     4          4          4          4    \n",
      "\n"
     ]
    }
   ],
   "source": [
    "for i in range(4):\n",
    "    for j in range(4):\n",
    "        if i <=j: #and i > 0:    \n",
    "            print(f'Action of the dihedral D_{i}{j}\\n')\n",
    "            print('On v1 =', pket(v1))\n",
    "            pprint(GroundState().dihedral((i,j), pket(v1)))\n",
    "            print()\n",
    "            print('On v2 =', pket(v2))\n",
    "            pprint(GroundState().dihedral((i,j), pket(v2)))\n",
    "            print()\n",
    "            "
   ]
  },
  {
   "cell_type": "code",
   "execution_count": 14,
   "id": "ca7d1205-78f3-4ebe-bbbe-0cbf95c4e823",
   "metadata": {},
   "outputs": [
    {
     "name": "stdout",
     "output_type": "stream",
     "text": [
      "(❘+-+-⟩ - ❘+--+⟩ - ❘-++-⟩ + ❘-+-+⟩, ❘+-+-⟩ - ❘+--+⟩ - ❘-++-⟩ + ❘-+-+⟩)\n",
      "  ❘++--⟩   ❘+-+-⟩   ❘+--+⟩   ❘-++-⟩   ❘-+-+⟩   ❘--++⟩\n",
      "- ────── - ────── + ────── + ────── - ────── - ──────\n",
      "    2        4        4        4        4        2   \n",
      "\n",
      "<class 'sympy.core.mul.Mul'>\n",
      "-❘+--+⟩\n",
      "\n",
      "<class 'sympy.core.mul.Mul'>\n",
      "-❘-++-⟩\n",
      "\n",
      "<class 'sympy.physics.quantum.state.Ket'>\n",
      "❘+-+-⟩\n",
      "\n",
      "<class 'sympy.physics.quantum.state.Ket'>\n",
      "❘-+-+⟩\n",
      "\n",
      "<class 'sympy.core.mul.Mul'>\n",
      "-❘++--⟩ \n",
      "────────\n",
      "   2    \n",
      "\n",
      "<class 'sympy.core.mul.Mul'>\n",
      "-❘--++⟩ \n",
      "────────\n",
      "   2    \n",
      "\n",
      "<class 'sympy.core.mul.Mul'>\n",
      "-❘+-+-⟩ \n",
      "────────\n",
      "   4    \n",
      "\n",
      "<class 'sympy.core.mul.Mul'>\n",
      "-❘-+-+⟩ \n",
      "────────\n",
      "   4    \n",
      "\n",
      "<class 'sympy.core.mul.Mul'>\n",
      "❘+--+⟩\n",
      "──────\n",
      "  4   \n",
      "\n",
      "<class 'sympy.core.mul.Mul'>\n",
      "❘-++-⟩\n",
      "──────\n",
      "  4   \n",
      "\n"
     ]
    }
   ],
   "source": [
    "Inv_basis = (pket(v1), pket(v1))\n",
    "pprint(Inv_basis)\n",
    "#GroundState().dihedral_matrix((1,2), Inv_basis)\n",
    "D12_v1 = GroundState().dihedral((1,2), Inv_basis[0])\n",
    "pprint(D12_v1)\n",
    "print()\n",
    "for ket in Inv_basis[0].args:\n",
    "    print(type(ket))\n",
    "    pprint(ket)\n",
    "    print()\n",
    "\n",
    "for ket in D12_v1.args:\n",
    "    print(type(ket))\n",
    "    pprint(ket)\n",
    "    print()\n",
    "\n",
    "# from sympy import Eq, solve, symbols\n",
    "# a, b = symbols('a b')\n",
    "# equation = Eq(a*Inv_basis[0]+b*Inv_basis[1], D12_v1)\n",
    "# sol = solve(equation, (a,b)) \n",
    "# non funziona"
   ]
  },
  {
   "cell_type": "code",
   "execution_count": null,
   "id": "bb8a756d-ac91-46f1-b91e-aab533a14b98",
   "metadata": {},
   "outputs": [],
   "source": []
  },
  {
   "cell_type": "code",
   "execution_count": 15,
   "id": "aba47be4-ef20-4497-a24d-8b4d5a027d58",
   "metadata": {},
   "outputs": [
    {
     "name": "stdout",
     "output_type": "stream",
     "text": [
      "<src.TensorVspaces.TensorProductVspace object at 0x1062c7250>\n",
      "4\n",
      "[3, 3, 3, 3]\n",
      "81\n"
     ]
    }
   ],
   "source": [
    "from src.QuantumGeometry import Spin1Tetrahedron\n",
    "\n",
    "print(Spin1Tetrahedron().supp)\n",
    "print(Spin1Tetrahedron().supp.k)\n",
    "print(Spin1Tetrahedron().supp.dimensions)\n",
    "print(Spin1Tetrahedron().supp.dimension)"
   ]
  },
  {
   "cell_type": "code",
   "execution_count": 16,
   "id": "e749c0f0-e4f8-4146-841a-f6126c001964",
   "metadata": {},
   "outputs": [
    {
     "name": "stdout",
     "output_type": "stream",
     "text": [
      "\n",
      "Excited state (1, 1, 1, 1) tetrahedron basis:\n",
      "\n",
      "[❘++⟩⨂ ❘++⟩⨂ ❘++⟩⨂ ❘++⟩, √2⋅❘++⟩⨂ ❘++⟩⨂ ❘++⟩⨂ ❘+-⟩, ❘++⟩⨂ ❘++⟩⨂ ❘++⟩⨂ ❘--⟩, √2 ↪\n",
      "\n",
      "↪ ⋅❘++⟩⨂ ❘++⟩⨂ ❘+-⟩⨂ ❘++⟩, 2⋅❘++⟩⨂ ❘++⟩⨂ ❘+-⟩⨂ ❘+-⟩, √2⋅❘++⟩⨂ ❘++⟩⨂ ❘+-⟩⨂ ❘--⟩ ↪\n",
      "\n",
      "↪ , ❘++⟩⨂ ❘++⟩⨂ ❘--⟩⨂ ❘++⟩, √2⋅❘++⟩⨂ ❘++⟩⨂ ❘--⟩⨂ ❘+-⟩, ❘++⟩⨂ ❘++⟩⨂ ❘--⟩⨂ ❘--⟩, ↪\n",
      "\n",
      "↪  √2⋅❘++⟩⨂ ❘+-⟩⨂ ❘++⟩⨂ ❘++⟩, 2⋅❘++⟩⨂ ❘+-⟩⨂ ❘++⟩⨂ ❘+-⟩, √2⋅❘++⟩⨂ ❘+-⟩⨂ ❘++⟩⨂ ❘ ↪\n",
      "\n",
      "↪ --⟩, 2⋅❘++⟩⨂ ❘+-⟩⨂ ❘+-⟩⨂ ❘++⟩, 2⋅√2⋅❘++⟩⨂ ❘+-⟩⨂ ❘+-⟩⨂ ❘+-⟩, 2⋅❘++⟩⨂ ❘+-⟩⨂ ❘+ ↪\n",
      "\n",
      "↪ -⟩⨂ ❘--⟩, √2⋅❘++⟩⨂ ❘+-⟩⨂ ❘--⟩⨂ ❘++⟩, 2⋅❘++⟩⨂ ❘+-⟩⨂ ❘--⟩⨂ ❘+-⟩, √2⋅❘++⟩⨂ ❘+-⟩ ↪\n",
      "\n",
      "↪ ⨂ ❘--⟩⨂ ❘--⟩, ❘++⟩⨂ ❘--⟩⨂ ❘++⟩⨂ ❘++⟩, √2⋅❘++⟩⨂ ❘--⟩⨂ ❘++⟩⨂ ❘+-⟩, ❘++⟩⨂ ❘--⟩⨂ ↪\n",
      "\n",
      "↪  ❘++⟩⨂ ❘--⟩, √2⋅❘++⟩⨂ ❘--⟩⨂ ❘+-⟩⨂ ❘++⟩, 2⋅❘++⟩⨂ ❘--⟩⨂ ❘+-⟩⨂ ❘+-⟩, √2⋅❘++⟩⨂ ❘ ↪\n",
      "\n",
      "↪ --⟩⨂ ❘+-⟩⨂ ❘--⟩, ❘++⟩⨂ ❘--⟩⨂ ❘--⟩⨂ ❘++⟩, √2⋅❘++⟩⨂ ❘--⟩⨂ ❘--⟩⨂ ❘+-⟩, ❘++⟩⨂ ❘- ↪\n",
      "\n",
      "↪ -⟩⨂ ❘--⟩⨂ ❘--⟩, √2⋅❘+-⟩⨂ ❘++⟩⨂ ❘++⟩⨂ ❘++⟩, 2⋅❘+-⟩⨂ ❘++⟩⨂ ❘++⟩⨂ ❘+-⟩, √2⋅❘+-⟩ ↪\n",
      "\n",
      "↪ ⨂ ❘++⟩⨂ ❘++⟩⨂ ❘--⟩, 2⋅❘+-⟩⨂ ❘++⟩⨂ ❘+-⟩⨂ ❘++⟩, 2⋅√2⋅❘+-⟩⨂ ❘++⟩⨂ ❘+-⟩⨂ ❘+-⟩, 2 ↪\n",
      "\n",
      "↪ ⋅❘+-⟩⨂ ❘++⟩⨂ ❘+-⟩⨂ ❘--⟩, √2⋅❘+-⟩⨂ ❘++⟩⨂ ❘--⟩⨂ ❘++⟩, 2⋅❘+-⟩⨂ ❘++⟩⨂ ❘--⟩⨂ ❘+-⟩ ↪\n",
      "\n",
      "↪ , √2⋅❘+-⟩⨂ ❘++⟩⨂ ❘--⟩⨂ ❘--⟩, 2⋅❘+-⟩⨂ ❘+-⟩⨂ ❘++⟩⨂ ❘++⟩, 2⋅√2⋅❘+-⟩⨂ ❘+-⟩⨂ ❘++⟩ ↪\n",
      "\n",
      "↪ ⨂ ❘+-⟩, 2⋅❘+-⟩⨂ ❘+-⟩⨂ ❘++⟩⨂ ❘--⟩, 2⋅√2⋅❘+-⟩⨂ ❘+-⟩⨂ ❘+-⟩⨂ ❘++⟩, 4⋅❘+-⟩⨂ ❘+-⟩⨂ ↪\n",
      "\n",
      "↪  ❘+-⟩⨂ ❘+-⟩, 2⋅√2⋅❘+-⟩⨂ ❘+-⟩⨂ ❘+-⟩⨂ ❘--⟩, 2⋅❘+-⟩⨂ ❘+-⟩⨂ ❘--⟩⨂ ❘++⟩, 2⋅√2⋅❘+- ↪\n",
      "\n",
      "↪ ⟩⨂ ❘+-⟩⨂ ❘--⟩⨂ ❘+-⟩, 2⋅❘+-⟩⨂ ❘+-⟩⨂ ❘--⟩⨂ ❘--⟩, √2⋅❘+-⟩⨂ ❘--⟩⨂ ❘++⟩⨂ ❘++⟩, 2⋅ ↪\n",
      "\n",
      "↪ ❘+-⟩⨂ ❘--⟩⨂ ❘++⟩⨂ ❘+-⟩, √2⋅❘+-⟩⨂ ❘--⟩⨂ ❘++⟩⨂ ❘--⟩, 2⋅❘+-⟩⨂ ❘--⟩⨂ ❘+-⟩⨂ ❘++⟩, ↪\n",
      "\n",
      "↪  2⋅√2⋅❘+-⟩⨂ ❘--⟩⨂ ❘+-⟩⨂ ❘+-⟩, 2⋅❘+-⟩⨂ ❘--⟩⨂ ❘+-⟩⨂ ❘--⟩, √2⋅❘+-⟩⨂ ❘--⟩⨂ ❘--⟩⨂ ↪\n",
      "\n",
      "↪  ❘++⟩, 2⋅❘+-⟩⨂ ❘--⟩⨂ ❘--⟩⨂ ❘+-⟩, √2⋅❘+-⟩⨂ ❘--⟩⨂ ❘--⟩⨂ ❘--⟩, ❘--⟩⨂ ❘++⟩⨂ ❘++⟩ ↪\n",
      "\n",
      "↪ ⨂ ❘++⟩, √2⋅❘--⟩⨂ ❘++⟩⨂ ❘++⟩⨂ ❘+-⟩, ❘--⟩⨂ ❘++⟩⨂ ❘++⟩⨂ ❘--⟩, √2⋅❘--⟩⨂ ❘++⟩⨂ ❘+ ↪\n",
      "\n",
      "↪ -⟩⨂ ❘++⟩, 2⋅❘--⟩⨂ ❘++⟩⨂ ❘+-⟩⨂ ❘+-⟩, √2⋅❘--⟩⨂ ❘++⟩⨂ ❘+-⟩⨂ ❘--⟩, ❘--⟩⨂ ❘++⟩⨂ ❘ ↪\n",
      "\n",
      "↪ --⟩⨂ ❘++⟩, √2⋅❘--⟩⨂ ❘++⟩⨂ ❘--⟩⨂ ❘+-⟩, ❘--⟩⨂ ❘++⟩⨂ ❘--⟩⨂ ❘--⟩, √2⋅❘--⟩⨂ ❘+-⟩⨂ ↪\n",
      "\n",
      "↪  ❘++⟩⨂ ❘++⟩, 2⋅❘--⟩⨂ ❘+-⟩⨂ ❘++⟩⨂ ❘+-⟩, √2⋅❘--⟩⨂ ❘+-⟩⨂ ❘++⟩⨂ ❘--⟩, 2⋅❘--⟩⨂ ❘+ ↪\n",
      "\n",
      "↪ -⟩⨂ ❘+-⟩⨂ ❘++⟩, 2⋅√2⋅❘--⟩⨂ ❘+-⟩⨂ ❘+-⟩⨂ ❘+-⟩, 2⋅❘--⟩⨂ ❘+-⟩⨂ ❘+-⟩⨂ ❘--⟩, √2⋅❘- ↪\n",
      "\n",
      "↪ -⟩⨂ ❘+-⟩⨂ ❘--⟩⨂ ❘++⟩, 2⋅❘--⟩⨂ ❘+-⟩⨂ ❘--⟩⨂ ❘+-⟩, √2⋅❘--⟩⨂ ❘+-⟩⨂ ❘--⟩⨂ ❘--⟩, ❘ ↪\n",
      "\n",
      "↪ --⟩⨂ ❘--⟩⨂ ❘++⟩⨂ ❘++⟩, √2⋅❘--⟩⨂ ❘--⟩⨂ ❘++⟩⨂ ❘+-⟩, ❘--⟩⨂ ❘--⟩⨂ ❘++⟩⨂ ❘--⟩, √2 ↪\n",
      "\n",
      "↪ ⋅❘--⟩⨂ ❘--⟩⨂ ❘+-⟩⨂ ❘++⟩, 2⋅❘--⟩⨂ ❘--⟩⨂ ❘+-⟩⨂ ❘+-⟩, √2⋅❘--⟩⨂ ❘--⟩⨂ ❘+-⟩⨂ ❘--⟩ ↪\n",
      "\n",
      "↪ , ❘--⟩⨂ ❘--⟩⨂ ❘--⟩⨂ ❘++⟩, √2⋅❘--⟩⨂ ❘--⟩⨂ ❘--⟩⨂ ❘+-⟩, ❘--⟩⨂ ❘--⟩⨂ ❘--⟩⨂ ❘--⟩]\n",
      "\n",
      "[❘++++++++⟩, √2⋅❘+++++++-⟩, ❘++++++--⟩, √2⋅❘+++++-++⟩, 2⋅❘+++++-+-⟩, √2⋅❘+++++ ↪\n",
      "\n",
      "↪ ---⟩, ❘++++--++⟩, √2⋅❘++++--+-⟩, ❘++++----⟩, √2⋅❘+++-++++⟩, 2⋅❘+++-+++-⟩, √2 ↪\n",
      "\n",
      "↪ ⋅❘+++-++--⟩, 2⋅❘+++-+-++⟩, 2⋅√2⋅❘+++-+-+-⟩, 2⋅❘+++-+---⟩, √2⋅❘+++---++⟩, 2⋅❘ ↪\n",
      "\n",
      "↪ +++---+-⟩, √2⋅❘+++-----⟩, ❘++--++++⟩, √2⋅❘++--+++-⟩, ❘++--++--⟩, √2⋅❘++--+-+ ↪\n",
      "\n",
      "↪ +⟩, 2⋅❘++--+-+-⟩, √2⋅❘++--+---⟩, ❘++----++⟩, √2⋅❘++----+-⟩, ❘++------⟩, √2⋅❘ ↪\n",
      "\n",
      "↪ +-++++++⟩, 2⋅❘+-+++++-⟩, √2⋅❘+-++++--⟩, 2⋅❘+-+++-++⟩, 2⋅√2⋅❘+-+++-+-⟩, 2⋅❘+- ↪\n",
      "\n",
      "↪ +++---⟩, √2⋅❘+-++--++⟩, 2⋅❘+-++--+-⟩, √2⋅❘+-++----⟩, 2⋅❘+-+-++++⟩, 2⋅√2⋅❘+-+ ↪\n",
      "\n",
      "↪ -+++-⟩, 2⋅❘+-+-++--⟩, 2⋅√2⋅❘+-+-+-++⟩, 4⋅❘+-+-+-+-⟩, 2⋅√2⋅❘+-+-+---⟩, 2⋅❘+-+ ↪\n",
      "\n",
      "↪ ---++⟩, 2⋅√2⋅❘+-+---+-⟩, 2⋅❘+-+-----⟩, √2⋅❘+---++++⟩, 2⋅❘+---+++-⟩, √2⋅❘+--- ↪\n",
      "\n",
      "↪ ++--⟩, 2⋅❘+---+-++⟩, 2⋅√2⋅❘+---+-+-⟩, 2⋅❘+---+---⟩, √2⋅❘+-----++⟩, 2⋅❘+----- ↪\n",
      "\n",
      "↪ +-⟩, √2⋅❘+-------⟩, ❘--++++++⟩, √2⋅❘--+++++-⟩, ❘--++++--⟩, √2⋅❘--+++-++⟩, 2⋅ ↪\n",
      "\n",
      "↪ ❘--+++-+-⟩, √2⋅❘--+++---⟩, ❘--++--++⟩, √2⋅❘--++--+-⟩, ❘--++----⟩, √2⋅❘--+-++ ↪\n",
      "\n",
      "↪ ++⟩, 2⋅❘--+-+++-⟩, √2⋅❘--+-++--⟩, 2⋅❘--+-+-++⟩, 2⋅√2⋅❘--+-+-+-⟩, 2⋅❘--+-+--- ↪\n",
      "\n",
      "↪ ⟩, √2⋅❘--+---++⟩, 2⋅❘--+---+-⟩, √2⋅❘--+-----⟩, ❘----++++⟩, √2⋅❘----+++-⟩, ❘- ↪\n",
      "\n",
      "↪ ---++--⟩, √2⋅❘----+-++⟩, 2⋅❘----+-+-⟩, √2⋅❘----+---⟩, ❘------++⟩, √2⋅❘------ ↪\n",
      "\n",
      "↪ +-⟩, ❘--------⟩]\n",
      "81\n",
      "\n",
      "Excited state (1, 1, 1, 1) tetrahedron invariant basis:\n",
      "\n",
      "[❘++⟩⨂ ❘--⟩⨂ ❘++⟩⨂ ❘--⟩ - ❘++⟩⨂ ❘--⟩⨂ ❘+-⟩⨂ ❘-+⟩ - ❘++⟩⨂ ❘--⟩⨂ ❘-+⟩⨂ ❘+-⟩ + ❘+ ↪\n",
      "\n",
      "↪ +⟩⨂ ❘--⟩⨂ ❘--⟩⨂ ❘++⟩ - ❘+-⟩⨂ ❘-+⟩⨂ ❘++⟩⨂ ❘--⟩ + ❘+-⟩⨂ ❘-+⟩⨂ ❘+-⟩⨂ ❘-+⟩ + ❘+- ↪\n",
      "\n",
      "↪ ⟩⨂ ❘-+⟩⨂ ❘-+⟩⨂ ❘+-⟩ - ❘+-⟩⨂ ❘-+⟩⨂ ❘--⟩⨂ ❘++⟩ - ❘-+⟩⨂ ❘+-⟩⨂ ❘++⟩⨂ ❘--⟩ + ❘-+⟩ ↪\n",
      "\n",
      "↪ ⨂ ❘+-⟩⨂ ❘+-⟩⨂ ❘-+⟩ + ❘-+⟩⨂ ❘+-⟩⨂ ❘-+⟩⨂ ❘+-⟩ - ❘-+⟩⨂ ❘+-⟩⨂ ❘--⟩⨂ ❘++⟩ + ❘--⟩⨂ ↪\n",
      "\n",
      "↪  ❘++⟩⨂ ❘++⟩⨂ ❘--⟩ - ❘--⟩⨂ ❘++⟩⨂ ❘+-⟩⨂ ❘-+⟩ - ❘--⟩⨂ ❘++⟩⨂ ❘-+⟩⨂ ❘+-⟩ + ❘--⟩⨂  ↪\n",
      "\n",
      "↪ ❘++⟩⨂ ❘--⟩⨂ ❘++⟩, ❘++⟩⨂ ❘++⟩⨂ ❘--⟩⨂ ❘--⟩ - ❘++⟩⨂ ❘+-⟩⨂ ❘-+⟩⨂ ❘--⟩ - ❘++⟩⨂ ❘- ↪\n",
      "\n",
      "↪ +⟩⨂ ❘+-⟩⨂ ❘--⟩ + ❘++⟩⨂ ❘--⟩⨂ ❘++⟩⨂ ❘--⟩ - ❘+-⟩⨂ ❘++⟩⨂ ❘--⟩⨂ ❘-+⟩ + ❘+-⟩⨂ ❘+- ↪\n",
      "\n",
      "↪ ⟩⨂ ❘-+⟩⨂ ❘-+⟩ + ❘+-⟩⨂ ❘-+⟩⨂ ❘+-⟩⨂ ❘-+⟩ - ❘+-⟩⨂ ❘--⟩⨂ ❘++⟩⨂ ❘-+⟩ - ❘-+⟩⨂ ❘++⟩ ↪\n",
      "\n",
      "↪ ⨂ ❘--⟩⨂ ❘+-⟩ + ❘-+⟩⨂ ❘+-⟩⨂ ❘-+⟩⨂ ❘+-⟩ + ❘-+⟩⨂ ❘-+⟩⨂ ❘+-⟩⨂ ❘+-⟩ - ❘-+⟩⨂ ❘--⟩⨂ ↪\n",
      "\n",
      "↪  ❘++⟩⨂ ❘+-⟩ + ❘--⟩⨂ ❘++⟩⨂ ❘--⟩⨂ ❘++⟩ - ❘--⟩⨂ ❘+-⟩⨂ ❘-+⟩⨂ ❘++⟩ - ❘--⟩⨂ ❘-+⟩⨂  ↪\n",
      "\n",
      "↪ ❘+-⟩⨂ ❘++⟩ + ❘--⟩⨂ ❘--⟩⨂ ❘++⟩⨂ ❘++⟩, ❘++⟩⨂ ❘+-⟩⨂ ❘-+⟩⨂ ❘--⟩ - ❘++⟩⨂ ❘+-⟩⨂ ❘- ↪\n",
      "\n",
      "↪ -⟩⨂ ❘-+⟩ - ❘++⟩⨂ ❘--⟩⨂ ❘++⟩⨂ ❘--⟩ + ❘++⟩⨂ ❘--⟩⨂ ❘+-⟩⨂ ❘-+⟩ - ❘+-⟩⨂ ❘++⟩⨂ ❘-+ ↪\n",
      "\n",
      "↪ ⟩⨂ ❘--⟩ + ❘+-⟩⨂ ❘++⟩⨂ ❘--⟩⨂ ❘-+⟩ + ❘+-⟩⨂ ❘-+⟩⨂ ❘++⟩⨂ ❘--⟩ - ❘+-⟩⨂ ❘-+⟩⨂ ❘+-⟩ ↪\n",
      "\n",
      "↪ ⨂ ❘-+⟩ - ❘-+⟩⨂ ❘+-⟩⨂ ❘-+⟩⨂ ❘+-⟩ + ❘-+⟩⨂ ❘+-⟩⨂ ❘--⟩⨂ ❘++⟩ + ❘-+⟩⨂ ❘--⟩⨂ ❘++⟩⨂ ↪\n",
      "\n",
      "↪  ❘+-⟩ - ❘-+⟩⨂ ❘--⟩⨂ ❘+-⟩⨂ ❘++⟩ + ❘--⟩⨂ ❘++⟩⨂ ❘-+⟩⨂ ❘+-⟩ - ❘--⟩⨂ ❘++⟩⨂ ❘--⟩⨂  ↪\n",
      "\n",
      "↪ ❘++⟩ - ❘--⟩⨂ ❘-+⟩⨂ ❘++⟩⨂ ❘+-⟩ + ❘--⟩⨂ ❘-+⟩⨂ ❘+-⟩⨂ ❘++⟩]\n",
      "\n",
      "[❘++--++--⟩ - ❘++--+--+⟩ - ❘++---++-⟩ + ❘++----++⟩ - ❘+--+++--⟩ + ❘+--++--+⟩ + ↪\n",
      "\n",
      "↪  ❘+--+-++-⟩ - ❘+--+--++⟩ - ❘-++-++--⟩ + ❘-++-+--+⟩ + ❘-++--++-⟩ - ❘-++---++⟩ ↪\n",
      "\n",
      "↪  + ❘--++++--⟩ - ❘--+++--+⟩ - ❘--++-++-⟩ + ❘--++--++⟩, ❘++++----⟩ - ❘+++--+-- ↪\n",
      "\n",
      "↪ ⟩ - ❘++-++---⟩ + ❘++--++--⟩ - ❘+-++---+⟩ + ❘+-+--+-+⟩ + ❘+--++--+⟩ - ❘+---++ ↪\n",
      "\n",
      "↪ -+⟩ - ❘-+++--+-⟩ + ❘-++--++-⟩ + ❘-+-++-+-⟩ - ❘-+--+++-⟩ + ❘--++--++⟩ - ❘--+- ↪\n",
      "\n",
      "↪ -+++⟩ - ❘---++-++⟩ + ❘----++++⟩, ❘+++--+--⟩ - ❘+++----+⟩ - ❘++--++--⟩ + ❘++- ↪\n",
      "\n",
      "↪ -+--+⟩ - ❘+-++-+--⟩ + ❘+-++---+⟩ + ❘+--+++--⟩ - ❘+--++--+⟩ - ❘-++--++-⟩ + ❘- ↪\n",
      "\n",
      "↪ ++---++⟩ + ❘-+--+++-⟩ - ❘-+--+-++⟩ + ❘--++-++-⟩ - ❘--++--++⟩ - ❘---++++-⟩ +  ↪\n",
      "\n",
      "↪ ❘---++-++⟩]\n",
      "3\n"
     ]
    }
   ],
   "source": [
    "print('\\nExcited state (1, 1, 1, 1) tetrahedron basis:\\n')\n",
    "pprint(Spin1Tetrahedron().supp.basis)\n",
    "print()\n",
    "pprint([pket(ket) for ket in Spin1Tetrahedron().supp.basis])\n",
    "print(len(Spin1Tetrahedron().supp.basis))\n",
    "\n",
    "print('\\nExcited state (1, 1, 1, 1) tetrahedron invariant basis:\\n')\n",
    "pprint(Spin1Tetrahedron().Inv)\n",
    "print()\n",
    "pprint([pket(ket) for ket in Spin1Tetrahedron().Inv])\n",
    "print(len(Spin1Tetrahedron().Inv))"
   ]
  },
  {
   "cell_type": "code",
   "execution_count": 17,
   "id": "8b0c5537-664f-4206-a529-465a78dc89f5",
   "metadata": {},
   "outputs": [
    {
     "name": "stdout",
     "output_type": "stream",
     "text": [
      "[-ⅈ⋅❘+-⟩, ❘+-⟩, -ⅈ⋅❘++⟩]\n",
      "\n",
      "⎡-(❘++⟩ + ❘--⟩)   ⅈ⋅(❘++⟩ + ❘--⟩)   ⎤\n",
      "⎢───────────────, ───────────────, 0⎥\n",
      "⎣       2                2          ⎦\n"
     ]
    }
   ],
   "source": [
    "w1, w2, w3 = Spin1Tetrahedron().Inv\n",
    "# pprint(pket(w1))\n",
    "\n",
    "pprint(Spin1Tetrahedron().Pauli(Ket('++')))\n",
    "print()\n",
    "pprint(Spin1Tetrahedron().tau(Ket('+-')))"
   ]
  },
  {
   "cell_type": "code",
   "execution_count": 18,
   "id": "dfb6601a-de32-499b-bcb6-405003616dbc",
   "metadata": {},
   "outputs": [
    {
     "name": "stdout",
     "output_type": "stream",
     "text": [
      "1\n",
      "1 |+-+-+-+->\n",
      "['+', '-', '+', '-', '+', '-', '+', '-']\n",
      "\n",
      "-(❘+-+++-+-⟩ + ❘+---+-+-⟩)\n"
     ]
    }
   ],
   "source": [
    "ket = Ket('+-+-+-+-')\n",
    "print(len(ket.args))\n",
    "coeff, ket = (1, Ket(ket.args[0]))\n",
    "print(coeff, ket)\n",
    "labels = [lab for lab in str(ket.label[0])]\n",
    "print(labels)\n",
    "\n",
    "print()\n",
    "pprint(Spin1Tetrahedron().lie_operator((1,2), ket))\n",
    "#pprint(Spin1Tetrahedron().dihedral((1,1), ket))"
   ]
  },
  {
   "cell_type": "code",
   "execution_count": 19,
   "id": "de64efa3-8f0b-4fb3-997f-e37f652be32f",
   "metadata": {},
   "outputs": [
    {
     "name": "stdout",
     "output_type": "stream",
     "text": [
      "❘++--++--⟩ - ❘++--+--+⟩ - ❘++---++-⟩ + ❘++----++⟩ - ❘+--+++--⟩ + ❘+--++--+⟩ +  ↪\n",
      "\n",
      "↪ ❘+--+-++-⟩ - ❘+--+--++⟩ - ❘-++-++--⟩ + ❘-++-+--+⟩ + ❘-++--++-⟩ - ❘-++---++⟩  ↪\n",
      "\n",
      "↪ + ❘--++++--⟩ - ❘--+++--+⟩ - ❘--++-++-⟩ + ❘--++--++⟩\n",
      "<class 'sympy.core.add.Add'>\n",
      "\n",
      "\n",
      "\n",
      "-(❘+-+++--+⟩ + ❘+---+--+⟩) - (❘+-++-++-⟩ + ❘+----++-⟩) - (❘-++++--+⟩ + ❘-+--+- ↪\n",
      "\n",
      "↪ -+⟩) - (❘-+++-++-⟩ + ❘-+---++-⟩) - ❘+++-++--⟩ + ❘+++-+--+⟩ + ❘+++--++-⟩ - ❘+ ↪\n",
      "\n",
      "↪ ++---++⟩ + ❘+-++++--⟩ + ❘+-++--++⟩ + ❘+---++--⟩ + ❘+-----++⟩ + ❘-+++++--⟩ +  ↪\n",
      "\n",
      "↪ ❘-+++--++⟩ + ❘-+--++--⟩ + ❘-+----++⟩ + ❘--+-++--⟩ - ❘--+-+--+⟩ - ❘--+--++-⟩  ↪\n",
      "\n",
      "↪ + ❘--+---++⟩\n",
      "<class 'sympy.core.add.Add'>\n",
      "\n",
      "\n",
      "\n"
     ]
    }
   ],
   "source": [
    "pprint(pket(w1))\n",
    "print(type(pket(w1)))\n",
    "print('\\n\\n')\n",
    "pprint(Spin1Tetrahedron().lie_operator((1,2), pket(w1)))\n",
    "print(type(Spin1Tetrahedron().lie_operator((1,2), pket(w1))))\n",
    "print('\\n\\n')\n",
    "#pprint(Spin1Tetrahedron().dihedral((1,1), pket(w1)))"
   ]
  },
  {
   "cell_type": "code",
   "execution_count": 20,
   "id": "e9fd480e-29ac-4b13-8441-7effd38c6b8e",
   "metadata": {},
   "outputs": [
    {
     "name": "stdout",
     "output_type": "stream",
     "text": [
      "[❘⟩, ❘⟩, ❘⟩]\n",
      "\n",
      "(+-++--+-,)\n",
      "[('+', '-'), ('+', '+'), ('-', '-'), ('+', '-')]\n",
      "\n",
      "❘+-⟩\n",
      "0\n",
      "\n",
      "❘++⟩\n",
      "-ⅈ⋅❘++⟩\n",
      "\n",
      "❘--⟩\n",
      "ⅈ⋅❘--⟩\n",
      "\n",
      "❘+-⟩\n",
      "0\n",
      "\n",
      "-ⅈ⋅❘++⟩\n",
      "<class 'sympy.core.mul.Mul'>\n",
      "-ⅈ⋅❘+-++--+-⟩\n"
     ]
    }
   ],
   "source": [
    "# Lie operator on simple Ket('++++++++')\n",
    "k = Ket('+-++--+-')\n",
    "pprint(Spin1Tetrahedron().Pauli(k)) #agisce solo su ket +-\n",
    "print()\n",
    "print(k.args) #(++++++++,)\n",
    "s = str(k.args[0])\n",
    "pairs = [(s[i], s[i+1]) for i in range(0, len(s), 2)]\n",
    "print(pairs)\n",
    "print()\n",
    "i, a = 1, 2\n",
    "for pair in pairs:\n",
    "    pprint(Ket(f'{pair[0]}{pair[1]}'))\n",
    "    pprint(Spin1Tetrahedron().Pauli(Ket(f'{pair[0]}{pair[1]}'))[2])\n",
    "    print()\n",
    "\n",
    "pprint(Spin1Tetrahedron().Pauli(Ket(f'{pairs[i][0]}{pairs[i][1]}'))[a])\n",
    "print(type(Spin1Tetrahedron().Pauli(Ket(f'{pairs[i][0]}{pairs[i][1]}'))[a]))\n",
    "pprint(pket(TensorProduct(Ket(f'{pairs[0][0]}{pairs[0][1]}'), Spin1Tetrahedron().Pauli(Ket(f'{pairs[i][0]}{pairs[i][1]}'))[a], Ket(f'{pairs[2][0]}{pairs[2][1]}'), Ket(f'{pairs[3][0]}{pairs[3][1]}'))))\n",
    "\n",
    "# i, a = 3, 1 per Ket('+-++--+-') è il caso sympy.Add\n",
    "# i, a = 3, 2 per Ket('+-++--+-') è il caso sympy.Zero"
   ]
  },
  {
   "cell_type": "code",
   "execution_count": 21,
   "id": "ab894617-f09d-45ef-86f0-fd3e292d696c",
   "metadata": {},
   "outputs": [
    {
     "name": "stdout",
     "output_type": "stream",
     "text": [
      "-ⅈ⋅❘+-++--+-⟩\n",
      "<class 'sympy.physics.quantum.state.Ket'>\n"
     ]
    }
   ],
   "source": [
    "# Definizioni\n",
    "k = Ket('+-++--+-')\n",
    "s = str(k.args[0])\n",
    "pairs = [(s[i], s[i+1]) for i in range(0, len(s), 2)]\n",
    "\n",
    "i, a = 1, 2  # Indice su cui applicare l'operatore e quale operatore\n",
    "\n",
    "# Creiamo la lista dei \"pezzi\" per il TensorProduct\n",
    "tensor_factors = []\n",
    "for j, pair in enumerate(pairs):\n",
    "    if j == i:\n",
    "        # Sull'indice selezionato applichiamo Pauli[a]\n",
    "        pauli_action = Spin1Tetrahedron().Pauli(Ket(f'{pair[0]}{pair[1]}'))[a]\n",
    "        tensor_factors.append(pauli_action)\n",
    "    else:\n",
    "        # Sugli altri lasciamo il ket normale\n",
    "        tensor_factors.append(Ket(f'{pair[0]}{pair[1]}'))\n",
    "\n",
    "# Ora facciamo il TensorProduct\n",
    "tp = TensorProduct(*tensor_factors)\n",
    "\n",
    "# Stampiamo\n",
    "pprint(pket(tp))\n",
    "\n",
    "print(type(k))\n",
    "\n"
   ]
  },
  {
   "cell_type": "code",
   "execution_count": 22,
   "id": "4e9b0a46-2036-41cc-80d0-e676bdcda7bd",
   "metadata": {},
   "outputs": [
    {
     "name": "stdout",
     "output_type": "stream",
     "text": [
      "-ⅈ⋅❘+-++--++⟩ - ⅈ⋅❘+-++----⟩\n",
      "<class 'sympy.core.add.Add'>\n",
      "-❘+-++--++⟩ - ❘+-++----⟩\n",
      "<class 'sympy.core.add.Add'>\n"
     ]
    }
   ],
   "source": [
    "def apply_pauli_on_pair(ket, i, a):\n",
    "    s = str(ket.args[0])\n",
    "    pairs = [(s[j], s[j+1]) for j in range(0, len(s), 2)]\n",
    "\n",
    "    # Calcola l'azione di Pauli su pairs[i]\n",
    "    pauli_action = Spin1Tetrahedron().Pauli(Ket(f'{pairs[i][0]}{pairs[i][1]}'))[a-1]\n",
    "\n",
    "    if pauli_action == S.Zero:\n",
    "        # Se è zero, restituiamo zero subito\n",
    "        return S.Zero\n",
    "\n",
    "    elif isinstance(pauli_action, Add):\n",
    "        # Se è somma di termini, espandiamo ogni termine\n",
    "        terms = []\n",
    "        for term in pauli_action.args:\n",
    "            factors = []\n",
    "            for j, pair in enumerate(pairs):\n",
    "                if j == i:\n",
    "                    factors.append(term)  # prendi il termine attuale\n",
    "                else:\n",
    "                    factors.append(Ket(f'{pair[0]}{pair[1]}'))\n",
    "            terms.append(TensorProduct(*factors))\n",
    "        return Add(*terms)\n",
    "\n",
    "    else:\n",
    "        # Caso normale (singolo ket)\n",
    "        factors = []\n",
    "        for j, pair in enumerate(pairs):\n",
    "            if j == i:\n",
    "                factors.append(pauli_action)\n",
    "            else:\n",
    "                factors.append(Ket(f'{pair[0]}{pair[1]}'))\n",
    "        return TensorProduct(*factors)\n",
    "\n",
    "# --- Esempio di uso ---\n",
    "k = Ket('+-++--+-')\n",
    "i, a = 3, 1  # caso Add\n",
    "tp = apply_pauli_on_pair(k, i, a)\n",
    "\n",
    "pprint(pket(tp))\n",
    "print(type(pket(tp)))\n",
    "\n",
    "i, a = 3, 2  # caso Zero\n",
    "tp = apply_pauli_on_pair(k, i, a)\n",
    "\n",
    "pprint(pket(tp))\n",
    "print(type(pket(tp)))\n"
   ]
  },
  {
   "cell_type": "code",
   "execution_count": null,
   "id": "a1374628-3277-45f0-86bb-ecb2a9d3c97a",
   "metadata": {},
   "outputs": [],
   "source": []
  },
  {
   "cell_type": "code",
   "execution_count": 23,
   "id": "ef1a853b-fd33-4495-bfa5-baeca26632e1",
   "metadata": {},
   "outputs": [
    {
     "name": "stdout",
     "output_type": "stream",
     "text": [
      "❘++--++--⟩ - ❘++--+--+⟩ - ❘++---++-⟩ + ❘++----++⟩ - ❘+--+++--⟩ + ❘+--++--+⟩ +  ↪\n",
      "\n",
      "↪ ❘+--+-++-⟩ - ❘+--+--++⟩ - ❘-++-++--⟩ + ❘-++-+--+⟩ + ❘-++--++-⟩ - ❘-++---++⟩  ↪\n",
      "\n",
      "↪ + ❘--++++--⟩ - ❘--+++--+⟩ - ❘--++-++-⟩ + ❘--++--++⟩\n",
      "\n",
      "\n"
     ]
    },
    {
     "ename": "AttributeError",
     "evalue": "'Mul' object has no attribute 'label'",
     "output_type": "error",
     "traceback": [
      "\u001b[0;31m---------------------------------------------------------------------------\u001b[0m",
      "\u001b[0;31mAttributeError\u001b[0m                            Traceback (most recent call last)",
      "Cell \u001b[0;32mIn[23], line 3\u001b[0m\n\u001b[1;32m      1\u001b[0m pprint(pket(w1))\n\u001b[1;32m      2\u001b[0m \u001b[38;5;28mprint\u001b[39m(\u001b[38;5;124m'\u001b[39m\u001b[38;5;130;01m\\n\u001b[39;00m\u001b[38;5;124m'\u001b[39m)\n\u001b[0;32m----> 3\u001b[0m pprint(\u001b[43mSpin1Tetrahedron\u001b[49m\u001b[43m(\u001b[49m\u001b[43m)\u001b[49m\u001b[38;5;241;43m.\u001b[39;49m\u001b[43mdihedral\u001b[49m\u001b[43m(\u001b[49m\u001b[43m(\u001b[49m\u001b[38;5;241;43m1\u001b[39;49m\u001b[43m,\u001b[49m\u001b[38;5;241;43m2\u001b[39;49m\u001b[43m)\u001b[49m\u001b[43m,\u001b[49m\u001b[43m \u001b[49m\u001b[43mpket\u001b[49m\u001b[43m(\u001b[49m\u001b[43mw1\u001b[49m\u001b[43m)\u001b[49m\u001b[43m)\u001b[49m)\n",
      "File \u001b[0;32m~/git/QuantumGeometryofTetrahedra/src/QuantumGeometry.py:306\u001b[0m, in \u001b[0;36mSpin1Tetrahedron.dihedral\u001b[0;34m(self, indixes, ket)\u001b[0m\n\u001b[1;32m    302\u001b[0m \u001b[38;5;250m\u001b[39m\u001b[38;5;124;03m\"\"\"Function for dihedral operators on spinnet ground states\u001b[39;00m\n\u001b[1;32m    303\u001b[0m \u001b[38;5;124;03m        D𝛼𝛽 ∶= 𝐿_(𝛼,𝑎) 𝛿𝑎𝑏 𝐿_(𝛽,𝑏) ∈ Aut(𝒦_Γ)\u001b[39;00m\n\u001b[1;32m    304\u001b[0m \u001b[38;5;124;03m\"\"\"\u001b[39;00m\n\u001b[1;32m    305\u001b[0m alpha, beta \u001b[38;5;241m=\u001b[39m indixes\n\u001b[0;32m--> 306\u001b[0m \u001b[38;5;28;01mreturn\u001b[39;00m \u001b[38;5;28;43msum\u001b[39;49m\u001b[43m(\u001b[49m\u001b[38;5;28;43mself\u001b[39;49m\u001b[38;5;241;43m.\u001b[39;49m\u001b[43mlie_operator\u001b[49m\u001b[43m(\u001b[49m\u001b[43m(\u001b[49m\u001b[43malpha\u001b[49m\u001b[43m,\u001b[49m\u001b[43m \u001b[49m\u001b[43ma\u001b[49m\u001b[43m)\u001b[49m\u001b[43m,\u001b[49m\u001b[43m \u001b[49m\u001b[38;5;28;43mself\u001b[39;49m\u001b[38;5;241;43m.\u001b[39;49m\u001b[43mlie_operator\u001b[49m\u001b[43m(\u001b[49m\u001b[43m(\u001b[49m\u001b[43mbeta\u001b[49m\u001b[43m,\u001b[49m\u001b[43m \u001b[49m\u001b[43ma\u001b[49m\u001b[43m)\u001b[49m\u001b[43m,\u001b[49m\u001b[43m \u001b[49m\u001b[43mket\u001b[49m\u001b[43m)\u001b[49m\u001b[43m)\u001b[49m\u001b[43m \u001b[49m\u001b[38;5;28;43;01mfor\u001b[39;49;00m\u001b[43m \u001b[49m\u001b[43ma\u001b[49m\u001b[43m \u001b[49m\u001b[38;5;129;43;01min\u001b[39;49;00m\u001b[43m \u001b[49m\u001b[38;5;28;43mrange\u001b[39;49m\u001b[43m(\u001b[49m\u001b[38;5;241;43m1\u001b[39;49m\u001b[43m,\u001b[49m\u001b[43m \u001b[49m\u001b[38;5;241;43m4\u001b[39;49m\u001b[43m)\u001b[49m\u001b[43m)\u001b[49m\n",
      "File \u001b[0;32m~/git/QuantumGeometryofTetrahedra/src/QuantumGeometry.py:306\u001b[0m, in \u001b[0;36m<genexpr>\u001b[0;34m(.0)\u001b[0m\n\u001b[1;32m    302\u001b[0m \u001b[38;5;250m\u001b[39m\u001b[38;5;124;03m\"\"\"Function for dihedral operators on spinnet ground states\u001b[39;00m\n\u001b[1;32m    303\u001b[0m \u001b[38;5;124;03m        D𝛼𝛽 ∶= 𝐿_(𝛼,𝑎) 𝛿𝑎𝑏 𝐿_(𝛽,𝑏) ∈ Aut(𝒦_Γ)\u001b[39;00m\n\u001b[1;32m    304\u001b[0m \u001b[38;5;124;03m\"\"\"\u001b[39;00m\n\u001b[1;32m    305\u001b[0m alpha, beta \u001b[38;5;241m=\u001b[39m indixes\n\u001b[0;32m--> 306\u001b[0m \u001b[38;5;28;01mreturn\u001b[39;00m \u001b[38;5;28msum\u001b[39m(\u001b[38;5;28;43mself\u001b[39;49m\u001b[38;5;241;43m.\u001b[39;49m\u001b[43mlie_operator\u001b[49m\u001b[43m(\u001b[49m\u001b[43m(\u001b[49m\u001b[43malpha\u001b[49m\u001b[43m,\u001b[49m\u001b[43m \u001b[49m\u001b[43ma\u001b[49m\u001b[43m)\u001b[49m\u001b[43m,\u001b[49m\u001b[43m \u001b[49m\u001b[38;5;28;43mself\u001b[39;49m\u001b[38;5;241;43m.\u001b[39;49m\u001b[43mlie_operator\u001b[49m\u001b[43m(\u001b[49m\u001b[43m(\u001b[49m\u001b[43mbeta\u001b[49m\u001b[43m,\u001b[49m\u001b[43m \u001b[49m\u001b[43ma\u001b[49m\u001b[43m)\u001b[49m\u001b[43m,\u001b[49m\u001b[43m \u001b[49m\u001b[43mket\u001b[49m\u001b[43m)\u001b[49m\u001b[43m)\u001b[49m \u001b[38;5;28;01mfor\u001b[39;00m a \u001b[38;5;129;01min\u001b[39;00m \u001b[38;5;28mrange\u001b[39m(\u001b[38;5;241m1\u001b[39m, \u001b[38;5;241m4\u001b[39m))\n",
      "File \u001b[0;32m~/git/QuantumGeometryofTetrahedra/src/QuantumGeometry.py:253\u001b[0m, in \u001b[0;36mSpin1Tetrahedron.lie_operator\u001b[0;34m(self, indexes, ket)\u001b[0m\n\u001b[1;32m    251\u001b[0m \u001b[38;5;66;03m# Se ket è Add estendo linearmente\u001b[39;00m\n\u001b[1;32m    252\u001b[0m \u001b[38;5;28;01mif\u001b[39;00m \u001b[38;5;28misinstance\u001b[39m(ket, Add):\n\u001b[0;32m--> 253\u001b[0m     \u001b[38;5;28;01mreturn\u001b[39;00m Add(\u001b[38;5;241m*\u001b[39m[\u001b[38;5;28mself\u001b[39m\u001b[38;5;241m.\u001b[39mlie_operator(indexes, term) \u001b[38;5;28;01mfor\u001b[39;00m term \u001b[38;5;129;01min\u001b[39;00m ket\u001b[38;5;241m.\u001b[39margs])\n\u001b[1;32m    255\u001b[0m \u001b[38;5;66;03m# Se ket è una moltiplicazione coefficiente * ket\u001b[39;00m\n\u001b[1;32m    256\u001b[0m coeff \u001b[38;5;241m=\u001b[39m S\u001b[38;5;241m.\u001b[39mOne\n",
      "File \u001b[0;32m~/git/QuantumGeometryofTetrahedra/src/QuantumGeometry.py:253\u001b[0m, in \u001b[0;36m<listcomp>\u001b[0;34m(.0)\u001b[0m\n\u001b[1;32m    251\u001b[0m \u001b[38;5;66;03m# Se ket è Add estendo linearmente\u001b[39;00m\n\u001b[1;32m    252\u001b[0m \u001b[38;5;28;01mif\u001b[39;00m \u001b[38;5;28misinstance\u001b[39m(ket, Add):\n\u001b[0;32m--> 253\u001b[0m     \u001b[38;5;28;01mreturn\u001b[39;00m Add(\u001b[38;5;241m*\u001b[39m[\u001b[38;5;28;43mself\u001b[39;49m\u001b[38;5;241;43m.\u001b[39;49m\u001b[43mlie_operator\u001b[49m\u001b[43m(\u001b[49m\u001b[43mindexes\u001b[49m\u001b[43m,\u001b[49m\u001b[43m \u001b[49m\u001b[43mterm\u001b[49m\u001b[43m)\u001b[49m \u001b[38;5;28;01mfor\u001b[39;00m term \u001b[38;5;129;01min\u001b[39;00m ket\u001b[38;5;241m.\u001b[39margs])\n\u001b[1;32m    255\u001b[0m \u001b[38;5;66;03m# Se ket è una moltiplicazione coefficiente * ket\u001b[39;00m\n\u001b[1;32m    256\u001b[0m coeff \u001b[38;5;241m=\u001b[39m S\u001b[38;5;241m.\u001b[39mOne\n",
      "File \u001b[0;32m~/git/QuantumGeometryofTetrahedra/src/QuantumGeometry.py:270\u001b[0m, in \u001b[0;36mSpin1Tetrahedron.lie_operator\u001b[0;34m(self, indexes, ket)\u001b[0m\n\u001b[1;32m    267\u001b[0m     \u001b[38;5;28;01mraise\u001b[39;00m \u001b[38;5;167;01mTypeError\u001b[39;00m(\u001b[38;5;124mf\u001b[39m\u001b[38;5;124m\"\u001b[39m\u001b[38;5;124mExpected Ket or Mul of Ket, got \u001b[39m\u001b[38;5;132;01m{\u001b[39;00m\u001b[38;5;28mtype\u001b[39m(ket)\u001b[38;5;132;01m}\u001b[39;00m\u001b[38;5;124m\"\u001b[39m)\n\u001b[1;32m    268\u001b[0m \u001b[38;5;66;03m# Ora true_ket è sicuramente un Ket\u001b[39;00m\n\u001b[0;32m--> 270\u001b[0m label \u001b[38;5;241m=\u001b[39m \u001b[38;5;28mstr\u001b[39m(\u001b[43mtrue_ket\u001b[49m\u001b[38;5;241;43m.\u001b[39;49m\u001b[43mlabel\u001b[49m[\u001b[38;5;241m0\u001b[39m])  \u001b[38;5;66;03m# <-- label?\u001b[39;00m\n\u001b[1;32m    271\u001b[0m \u001b[38;5;66;03m# if len(label) % 2 != 0:\u001b[39;00m\n\u001b[1;32m    272\u001b[0m \u001b[38;5;66;03m#     raise ValueError(\"Label must have even number of symbols to form pairs.\")\u001b[39;00m\n\u001b[1;32m    274\u001b[0m pairs \u001b[38;5;241m=\u001b[39m [(label[j], label[j \u001b[38;5;241m+\u001b[39m \u001b[38;5;241m1\u001b[39m]) \u001b[38;5;28;01mfor\u001b[39;00m j \u001b[38;5;129;01min\u001b[39;00m \u001b[38;5;28mrange\u001b[39m(\u001b[38;5;241m0\u001b[39m, \u001b[38;5;28mlen\u001b[39m(label), \u001b[38;5;241m2\u001b[39m)]\n",
      "\u001b[0;31mAttributeError\u001b[0m: 'Mul' object has no attribute 'label'"
     ]
    }
   ],
   "source": [
    "pprint(pket(w1))\n",
    "print('\\n')\n",
    "pprint(Spin1Tetrahedron().dihedral((1,2), pket(w1)))"
   ]
  },
  {
   "cell_type": "code",
   "execution_count": null,
   "id": "9bf4e189-a2c4-40dd-b7be-d323433686cb",
   "metadata": {},
   "outputs": [],
   "source": [
    "pprint(Spin1Tetrahedron().Pauli(Ket('+-')))\n",
    "pprint(Spin1Tetrahedron().tau(Ket('+-')))"
   ]
  },
  {
   "cell_type": "code",
   "execution_count": null,
   "id": "313c8ba5-9887-4b20-9473-0d5e2cb6a282",
   "metadata": {},
   "outputs": [],
   "source": []
  }
 ],
 "metadata": {
  "kernelspec": {
   "display_name": ".venv",
   "language": "python",
   "name": "python3"
  },
  "language_info": {
   "codemirror_mode": {
    "name": "ipython",
    "version": 3
   },
   "file_extension": ".py",
   "mimetype": "text/x-python",
   "name": "python",
   "nbconvert_exporter": "python",
   "pygments_lexer": "ipython3",
   "version": "3.9.6"
  }
 },
 "nbformat": 4,
 "nbformat_minor": 5
}
